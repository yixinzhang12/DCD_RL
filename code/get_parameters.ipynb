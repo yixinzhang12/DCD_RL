{
 "cells": [
  {
   "cell_type": "code",
   "execution_count": 1,
   "metadata": {},
   "outputs": [
    {
     "data": {
      "text/plain": [
       "2"
      ]
     },
     "execution_count": 1,
     "metadata": {},
     "output_type": "execute_result"
    }
   ],
   "source": [
    "1+1"
   ]
  },
  {
   "cell_type": "code",
   "execution_count": null,
   "metadata": {},
   "outputs": [],
   "source": [
    "# import numpy as np\n",
    "# import matplotlib.pyplot as plt\n",
    "# from scipy.integrate import odeint\n",
    "# import sympy as sp"
   ]
  },
  {
   "cell_type": "code",
   "execution_count": 6,
   "metadata": {},
   "outputs": [],
   "source": [
    "# Define the function of the dynamics\n",
    "def cosine_dynamics(X, t, constant, alpha, sigma, B):\n",
    "    x,y = X # x = angle = theta, y = dxdt = angular velocity = omega, dydt = angular acceleration\n",
    "\n",
    "    conditions = [(x > (B - sigma)) & (x < (B + sigma)),\n",
    "              (x <= (B - sigma)) | (x >= (B + sigma))]\n",
    "\n",
    "    functions = [lambda x: 1 + np.cos(2 * np.pi * (x - B) / (2 * sigma)), lambda x: 0]\n",
    "\n",
    "    dxdt = y\n",
    "    dydt = constant * (x - np.sign(B) * alpha * np.piecewise(x, conditions, functions)) # minuses the cosine\n",
    "    return [dxdt, dydt]"
   ]
  },
  {
   "cell_type": "code",
   "execution_count": 16,
   "metadata": {},
   "outputs": [
    {
     "ename": "KeyboardInterrupt",
     "evalue": "",
     "output_type": "error",
     "traceback": [
      "\u001b[0;31m---------------------------------------------------------------------------\u001b[0m",
      "\u001b[0;31mKeyboardInterrupt\u001b[0m                         Traceback (most recent call last)",
      "Cell \u001b[0;32mIn[16], line 4\u001b[0m\n\u001b[1;32m      2\u001b[0m \u001b[38;5;28;01mfrom\u001b[39;00m \u001b[38;5;21;01mscipy\u001b[39;00m\u001b[38;5;21;01m.\u001b[39;00m\u001b[38;5;21;01mintegrate\u001b[39;00m \u001b[38;5;28;01mimport\u001b[39;00m odeint\n\u001b[1;32m      3\u001b[0m \u001b[38;5;28;01mfrom\u001b[39;00m \u001b[38;5;21;01mscipy\u001b[39;00m\u001b[38;5;21;01m.\u001b[39;00m\u001b[38;5;21;01moptimize\u001b[39;00m \u001b[38;5;28;01mimport\u001b[39;00m minimize\n\u001b[0;32m----> 4\u001b[0m \u001b[38;5;28;01mimport\u001b[39;00m \u001b[38;5;21;01msympy\u001b[39;00m \u001b[38;5;28;01mas\u001b[39;00m \u001b[38;5;21;01msp\u001b[39;00m\n\u001b[1;32m      6\u001b[0m \u001b[38;5;66;03m# Constants\u001b[39;00m\n\u001b[1;32m      7\u001b[0m mass, height, setpoint_baseline, sd_baseline \u001b[38;5;241m=\u001b[39m \u001b[38;5;241m80\u001b[39m, \u001b[38;5;241m1.68\u001b[39m, \u001b[38;5;241m1.0292359\u001b[39m, \u001b[38;5;241m0.4495318\u001b[39m\n",
      "File \u001b[0;32m~/Desktop/DCD_RL/.venv/lib/python3.12/site-packages/sympy/__init__.py:30\u001b[0m\n\u001b[1;32m     27\u001b[0m \u001b[38;5;28;01mdel\u001b[39;00m mpmath\n\u001b[1;32m     29\u001b[0m \u001b[38;5;28;01mfrom\u001b[39;00m \u001b[38;5;21;01msympy\u001b[39;00m\u001b[38;5;21;01m.\u001b[39;00m\u001b[38;5;21;01mrelease\u001b[39;00m \u001b[38;5;28;01mimport\u001b[39;00m __version__\n\u001b[0;32m---> 30\u001b[0m \u001b[38;5;28;01mfrom\u001b[39;00m \u001b[38;5;21;01msympy\u001b[39;00m\u001b[38;5;21;01m.\u001b[39;00m\u001b[38;5;21;01mcore\u001b[39;00m\u001b[38;5;21;01m.\u001b[39;00m\u001b[38;5;21;01mcache\u001b[39;00m \u001b[38;5;28;01mimport\u001b[39;00m lazy_function\n\u001b[1;32m     32\u001b[0m \u001b[38;5;28;01mif\u001b[39;00m \u001b[38;5;124m'\u001b[39m\u001b[38;5;124mdev\u001b[39m\u001b[38;5;124m'\u001b[39m \u001b[38;5;129;01min\u001b[39;00m __version__:\n\u001b[1;32m     33\u001b[0m     \u001b[38;5;28;01mdef\u001b[39;00m \u001b[38;5;21menable_warnings\u001b[39m():\n",
      "File \u001b[0;32m~/Desktop/DCD_RL/.venv/lib/python3.12/site-packages/sympy/core/__init__.py:4\u001b[0m\n\u001b[1;32m      1\u001b[0m \u001b[38;5;124;03m\"\"\"Core module. Provides the basic operations needed in sympy.\u001b[39;00m\n\u001b[1;32m      2\u001b[0m \u001b[38;5;124;03m\"\"\"\u001b[39;00m\n\u001b[0;32m----> 4\u001b[0m \u001b[38;5;28;01mfrom\u001b[39;00m \u001b[38;5;21;01m.\u001b[39;00m\u001b[38;5;21;01msympify\u001b[39;00m \u001b[38;5;28;01mimport\u001b[39;00m sympify, SympifyError\n\u001b[1;32m      5\u001b[0m \u001b[38;5;28;01mfrom\u001b[39;00m \u001b[38;5;21;01m.\u001b[39;00m\u001b[38;5;21;01mcache\u001b[39;00m \u001b[38;5;28;01mimport\u001b[39;00m cacheit\n\u001b[1;32m      6\u001b[0m \u001b[38;5;28;01mfrom\u001b[39;00m \u001b[38;5;21;01m.\u001b[39;00m\u001b[38;5;21;01massumptions\u001b[39;00m \u001b[38;5;28;01mimport\u001b[39;00m assumptions, check_assumptions, failing_assumptions, common_assumptions\n",
      "File \u001b[0;32m~/Desktop/DCD_RL/.venv/lib/python3.12/site-packages/sympy/core/sympify.py:620\u001b[0m\n\u001b[1;32m    616\u001b[0m     \u001b[38;5;28;01mreturn\u001b[39;00m expr\n\u001b[1;32m    619\u001b[0m \u001b[38;5;66;03m# Avoid circular import\u001b[39;00m\n\u001b[0;32m--> 620\u001b[0m \u001b[38;5;28;01mfrom\u001b[39;00m \u001b[38;5;21;01m.\u001b[39;00m\u001b[38;5;21;01mbasic\u001b[39;00m \u001b[38;5;28;01mimport\u001b[39;00m Basic\n",
      "File \u001b[0;32m~/Desktop/DCD_RL/.venv/lib/python3.12/site-packages/sympy/core/basic.py:14\u001b[0m\n\u001b[1;32m     12\u001b[0m \u001b[38;5;28;01mfrom\u001b[39;00m \u001b[38;5;21;01m.\u001b[39;00m\u001b[38;5;21;01msorting\u001b[39;00m \u001b[38;5;28;01mimport\u001b[39;00m ordered\n\u001b[1;32m     13\u001b[0m \u001b[38;5;28;01mfrom\u001b[39;00m \u001b[38;5;21;01m.\u001b[39;00m\u001b[38;5;21;01mkind\u001b[39;00m \u001b[38;5;28;01mimport\u001b[39;00m Kind, UndefinedKind\n\u001b[0;32m---> 14\u001b[0m \u001b[38;5;28;01mfrom\u001b[39;00m \u001b[38;5;21;01m.\u001b[39;00m\u001b[38;5;21;01m_print_helpers\u001b[39;00m \u001b[38;5;28;01mimport\u001b[39;00m Printable\n\u001b[1;32m     16\u001b[0m \u001b[38;5;28;01mfrom\u001b[39;00m \u001b[38;5;21;01msympy\u001b[39;00m\u001b[38;5;21;01m.\u001b[39;00m\u001b[38;5;21;01mutilities\u001b[39;00m\u001b[38;5;21;01m.\u001b[39;00m\u001b[38;5;21;01mdecorator\u001b[39;00m \u001b[38;5;28;01mimport\u001b[39;00m deprecated\n\u001b[1;32m     17\u001b[0m \u001b[38;5;28;01mfrom\u001b[39;00m \u001b[38;5;21;01msympy\u001b[39;00m\u001b[38;5;21;01m.\u001b[39;00m\u001b[38;5;21;01mutilities\u001b[39;00m\u001b[38;5;21;01m.\u001b[39;00m\u001b[38;5;21;01mexceptions\u001b[39;00m \u001b[38;5;28;01mimport\u001b[39;00m sympy_deprecation_warning\n",
      "File \u001b[0;32m<frozen importlib._bootstrap>:1360\u001b[0m, in \u001b[0;36m_find_and_load\u001b[0;34m(name, import_)\u001b[0m\n",
      "File \u001b[0;32m<frozen importlib._bootstrap>:1331\u001b[0m, in \u001b[0;36m_find_and_load_unlocked\u001b[0;34m(name, import_)\u001b[0m\n",
      "File \u001b[0;32m<frozen importlib._bootstrap>:935\u001b[0m, in \u001b[0;36m_load_unlocked\u001b[0;34m(spec)\u001b[0m\n",
      "File \u001b[0;32m<frozen importlib._bootstrap_external>:991\u001b[0m, in \u001b[0;36mexec_module\u001b[0;34m(self, module)\u001b[0m\n",
      "File \u001b[0;32m<frozen importlib._bootstrap_external>:1087\u001b[0m, in \u001b[0;36mget_code\u001b[0;34m(self, fullname)\u001b[0m\n",
      "File \u001b[0;32m<frozen importlib._bootstrap_external>:1187\u001b[0m, in \u001b[0;36mget_data\u001b[0;34m(self, path)\u001b[0m\n",
      "\u001b[0;31mKeyboardInterrupt\u001b[0m: "
     ]
    }
   ],
   "source": [
    "import numpy as np\n",
    "from scipy.integrate import odeint\n",
    "from scipy.optimize import minimize\n",
    "import sympy as sp\n",
    "\n",
    "# Constants\n",
    "mass, height, setpoint_baseline, sd_baseline = 80, 1.68, 1.0292359, 0.4495318\n",
    "scaling = 0.971\n",
    "L = 1.09\n",
    "g = 9.81\n",
    "m = mass\n",
    "H = height\n",
    "I = 0.35 * m * H**2  # Distributed Inertia\n",
    "constant = scaling * m * g * L / I\n",
    "\n",
    "# Baselines in degrees\n",
    "cos_start_deg = setpoint_baseline + 1 * sd_baseline\n",
    "cos_acc0_deg = setpoint_baseline + 3 * sd_baseline\n",
    "\n",
    "# Convert degrees to radians\n",
    "cos_start = np.deg2rad(cos_start_deg)\n",
    "cos_acc0 = np.deg2rad(cos_acc0_deg)\n",
    "\n",
    "# Time range for simulation\n",
    "t = np.linspace(0, 10, 1000)  # Adjust the time range as needed\n",
    "\n",
    "# Define the function for dydt\n",
    "def dydt(x, alpha, sigma, B):\n",
    "    conditions = [(x > (B - sigma)) & (x < (B + sigma)),\n",
    "                  (x <= (B - sigma)) | (x >= (B + sigma))]\n",
    "    functions = [lambda X: (1 + np.cos(2 * np.pi * (X - B) / (2 * sigma))), lambda X: 0]\n",
    "    dydt = scaling * m * g * L / I * (x - np.sign(B) * alpha * np.piecewise(x, conditions, functions))\n",
    "    return dydt\n",
    "\n",
    "# Objective function to minimize\n",
    "def objective(params):\n",
    "    alpha, sigma = params\n",
    "    B = sigma + cos_start  # Criterion 1: B = sigma + cos_start\n",
    "    # Initial condition\n",
    "    y0 = cos_start\n",
    "    # Integrate the ODE\n",
    "    sol = odeint(dydt, y0, t, args=(alpha, sigma, B))\n",
    "    x = sol[:, 0]\n",
    "    # Criterion 2: dydt crosses zero at x = cos_acc0\n",
    "    # Find time when x crosses cos_acc0\n",
    "    idx = np.argmin(np.abs(x - cos_acc0))\n",
    "    dydt_at_cos_acc0 = dydt(x[idx], t[idx], alpha, sigma, B)\n",
    "    # Criterion 3: dydt = -0.05 when x = B\n",
    "    dydt_at_B = dydt(B, 0, alpha, sigma, B) + 0.05\n",
    "    # Compute the objective function\n",
    "    obj = dydt_at_cos_acc0**2 + dydt_at_B**2\n",
    "    # Penalize negative sigma and alpha\n",
    "    if sigma <= 0 or alpha <= 0:\n",
    "        obj += 1e6\n",
    "    return obj\n",
    "\n",
    "# Initial guesses for alpha and sigma\n",
    "initial_guess = [1, 1]\n",
    "\n",
    "# Bounds for alpha and sigma (positive values)\n",
    "bounds = [(1e-6, None), (1e-6, None)]\n",
    "\n",
    "# Optimize alpha and sigma\n",
    "result = minimize(objective, initial_guess, bounds=bounds, method='L-BFGS-B')\n",
    "\n",
    "# Extract optimized parameters\n",
    "alpha, sigma = result.x\n",
    "B = sigma + cos_start\n",
    "\n",
    "# Print the results\n",
    "print(f\"Alpha: {alpha}\")\n",
    "print(f\"Sigma: {sigma}\")\n",
    "print(f\"B: {B}\")\n",
    "\n",
    "# Print the results\n",
    "print(f\"strength: {alpha}\")\n",
    "print(f\"width: {np.rad2deg(sigma)}\")\n",
    "print(f\"location: {np.rad2deg(B)}\")"
   ]
  },
  {
   "cell_type": "code",
   "execution_count": 17,
   "metadata": {},
   "outputs": [
    {
     "ename": "RecursionError",
     "evalue": "maximum recursion depth exceeded",
     "output_type": "error",
     "traceback": [
      "\u001b[0;31m---------------------------------------------------------------------------\u001b[0m",
      "\u001b[0;31mRecursionError\u001b[0m                            Traceback (most recent call last)",
      "Cell \u001b[0;32mIn[17], line 3\u001b[0m\n\u001b[1;32m      1\u001b[0m \u001b[38;5;28;01mimport\u001b[39;00m \u001b[38;5;21;01mnumpy\u001b[39;00m \u001b[38;5;28;01mas\u001b[39;00m \u001b[38;5;21;01mnp\u001b[39;00m\n\u001b[1;32m      2\u001b[0m \u001b[38;5;28;01mfrom\u001b[39;00m \u001b[38;5;21;01mscipy\u001b[39;00m\u001b[38;5;21;01m.\u001b[39;00m\u001b[38;5;21;01moptimize\u001b[39;00m \u001b[38;5;28;01mimport\u001b[39;00m fsolve\n\u001b[0;32m----> 3\u001b[0m \u001b[38;5;28;01mimport\u001b[39;00m \u001b[38;5;21;01msympy\u001b[39;00m \u001b[38;5;28;01mas\u001b[39;00m \u001b[38;5;21;01msp\u001b[39;00m\n\u001b[1;32m      6\u001b[0m mass, height, setpoint_baseline, sd_baseline \u001b[38;5;241m=\u001b[39m \u001b[38;5;241m80\u001b[39m, \u001b[38;5;241m1.68\u001b[39m, \u001b[38;5;241m1.0292359\u001b[39m, \u001b[38;5;241m0.4495318\u001b[39m\n\u001b[1;32m      7\u001b[0m \u001b[38;5;66;03m#Constants\u001b[39;00m\n",
      "File \u001b[0;32m~/Desktop/DCD_RL/.venv/lib/python3.12/site-packages/sympy/__init__.py:74\u001b[0m\n\u001b[1;32m     67\u001b[0m \u001b[38;5;28;01mfrom\u001b[39;00m \u001b[38;5;21;01m.\u001b[39;00m\u001b[38;5;21;01mlogic\u001b[39;00m \u001b[38;5;28;01mimport\u001b[39;00m (to_cnf, to_dnf, to_nnf, And, Or, Not, Xor, Nand, Nor,\n\u001b[1;32m     68\u001b[0m         Implies, Equivalent, ITE, POSform, SOPform, simplify_logic, bool_map,\n\u001b[1;32m     69\u001b[0m         true, false, satisfiable)\n\u001b[1;32m     71\u001b[0m \u001b[38;5;28;01mfrom\u001b[39;00m \u001b[38;5;21;01m.\u001b[39;00m\u001b[38;5;21;01massumptions\u001b[39;00m \u001b[38;5;28;01mimport\u001b[39;00m (AppliedPredicate, Predicate, AssumptionsContext,\n\u001b[1;32m     72\u001b[0m         assuming, Q, ask, register_handler, remove_handler, refine)\n\u001b[0;32m---> 74\u001b[0m \u001b[38;5;28;01mfrom\u001b[39;00m \u001b[38;5;21;01m.\u001b[39;00m\u001b[38;5;21;01mpolys\u001b[39;00m \u001b[38;5;28;01mimport\u001b[39;00m (Poly, PurePoly, poly_from_expr, parallel_poly_from_expr,\n\u001b[1;32m     75\u001b[0m         degree, total_degree, degree_list, LC, LM, LT, pdiv, prem, pquo,\n\u001b[1;32m     76\u001b[0m         pexquo, div, rem, quo, exquo, half_gcdex, gcdex, invert,\n\u001b[1;32m     77\u001b[0m         subresultants, resultant, discriminant, cofactors, gcd_list, gcd,\n\u001b[1;32m     78\u001b[0m         lcm_list, lcm, terms_gcd, trunc, monic, content, primitive, compose,\n\u001b[1;32m     79\u001b[0m         decompose, sturm, gff_list, gff, sqf_norm, sqf_part, sqf_list, sqf,\n\u001b[1;32m     80\u001b[0m         factor_list, factor, intervals, refine_root, count_roots, all_roots,\n\u001b[1;32m     81\u001b[0m         real_roots, nroots, ground_roots, nth_power_roots_poly, cancel,\n\u001b[1;32m     82\u001b[0m         reduced, groebner, is_zero_dimensional, GroebnerBasis, poly,\n\u001b[1;32m     83\u001b[0m         symmetrize, horner, interpolate, rational_interpolate, viete, together,\n\u001b[1;32m     84\u001b[0m         BasePolynomialError, ExactQuotientFailed, PolynomialDivisionFailed,\n\u001b[1;32m     85\u001b[0m         OperationNotSupported, HeuristicGCDFailed, HomomorphismFailed,\n\u001b[1;32m     86\u001b[0m         IsomorphismFailed, ExtraneousFactors, EvaluationFailed,\n\u001b[1;32m     87\u001b[0m         RefinementFailed, CoercionFailed, NotInvertible, NotReversible,\n\u001b[1;32m     88\u001b[0m         NotAlgebraic, DomainError, PolynomialError, UnificationFailed,\n\u001b[1;32m     89\u001b[0m         GeneratorsError, GeneratorsNeeded, ComputationFailed,\n\u001b[1;32m     90\u001b[0m         UnivariatePolynomialError, MultivariatePolynomialError,\n\u001b[1;32m     91\u001b[0m         PolificationFailed, OptionError, FlagError, minpoly,\n\u001b[1;32m     92\u001b[0m         minimal_polynomial, primitive_element, field_isomorphism,\n\u001b[1;32m     93\u001b[0m         to_number_field, isolate, round_two, prime_decomp, prime_valuation,\n\u001b[1;32m     94\u001b[0m         galois_group, itermonomials, Monomial, lex, grlex,\n\u001b[1;32m     95\u001b[0m         grevlex, ilex, igrlex, igrevlex, CRootOf, rootof, RootOf,\n\u001b[1;32m     96\u001b[0m         ComplexRootOf, RootSum, roots, Domain, FiniteField, IntegerRing,\n\u001b[1;32m     97\u001b[0m         RationalField, RealField, ComplexField, PythonFiniteField,\n\u001b[1;32m     98\u001b[0m         GMPYFiniteField, PythonIntegerRing, GMPYIntegerRing, PythonRational,\n\u001b[1;32m     99\u001b[0m         GMPYRationalField, AlgebraicField, PolynomialRing, FractionField,\n\u001b[1;32m    100\u001b[0m         ExpressionDomain, FF_python, FF_gmpy, ZZ_python, ZZ_gmpy, QQ_python,\n\u001b[1;32m    101\u001b[0m         QQ_gmpy, GF, FF, ZZ, QQ, ZZ_I, QQ_I, RR, CC, EX, EXRAW,\n\u001b[1;32m    102\u001b[0m         construct_domain, swinnerton_dyer_poly, cyclotomic_poly,\n\u001b[1;32m    103\u001b[0m         symmetric_poly, random_poly, interpolating_poly, jacobi_poly,\n\u001b[1;32m    104\u001b[0m         chebyshevt_poly, chebyshevu_poly, hermite_poly, hermite_prob_poly,\n\u001b[1;32m    105\u001b[0m         legendre_poly, laguerre_poly, apart, apart_list, assemble_partfrac_list,\n\u001b[1;32m    106\u001b[0m         Options, ring, xring, vring, sring, field, xfield, vfield, sfield)\n\u001b[1;32m    108\u001b[0m \u001b[38;5;28;01mfrom\u001b[39;00m \u001b[38;5;21;01m.\u001b[39;00m\u001b[38;5;21;01mseries\u001b[39;00m \u001b[38;5;28;01mimport\u001b[39;00m (Order, O, limit, Limit, gruntz, series, approximants,\n\u001b[1;32m    109\u001b[0m         residue, EmptySequence, SeqPer, SeqFormula, sequence, SeqAdd, SeqMul,\n\u001b[1;32m    110\u001b[0m         fourier_series, fps, difference_delta, limit_seq)\n\u001b[1;32m    112\u001b[0m \u001b[38;5;28;01mfrom\u001b[39;00m \u001b[38;5;21;01m.\u001b[39;00m\u001b[38;5;21;01mfunctions\u001b[39;00m \u001b[38;5;28;01mimport\u001b[39;00m (factorial, factorial2, rf, ff, binomial,\n\u001b[1;32m    113\u001b[0m         RisingFactorial, FallingFactorial, subfactorial, carmichael,\n\u001b[1;32m    114\u001b[0m         fibonacci, lucas, motzkin, tribonacci, harmonic, bernoulli, bell, euler,\n\u001b[0;32m   (...)\u001b[0m\n\u001b[1;32m    135\u001b[0m         Znm, elliptic_k, elliptic_f, elliptic_e, elliptic_pi, beta, mathieus,\n\u001b[1;32m    136\u001b[0m         mathieuc, mathieusprime, mathieucprime, riemann_xi, betainc, betainc_regularized)\n",
      "File \u001b[0;32m~/Desktop/DCD_RL/.venv/lib/python3.12/site-packages/sympy/polys/__init__.py:79\u001b[0m\n\u001b[1;32m      3\u001b[0m __all__ \u001b[38;5;241m=\u001b[39m [\n\u001b[1;32m      4\u001b[0m     \u001b[38;5;124m'\u001b[39m\u001b[38;5;124mPoly\u001b[39m\u001b[38;5;124m'\u001b[39m, \u001b[38;5;124m'\u001b[39m\u001b[38;5;124mPurePoly\u001b[39m\u001b[38;5;124m'\u001b[39m, \u001b[38;5;124m'\u001b[39m\u001b[38;5;124mpoly_from_expr\u001b[39m\u001b[38;5;124m'\u001b[39m, \u001b[38;5;124m'\u001b[39m\u001b[38;5;124mparallel_poly_from_expr\u001b[39m\u001b[38;5;124m'\u001b[39m, \u001b[38;5;124m'\u001b[39m\u001b[38;5;124mdegree\u001b[39m\u001b[38;5;124m'\u001b[39m,\n\u001b[1;32m      5\u001b[0m     \u001b[38;5;124m'\u001b[39m\u001b[38;5;124mtotal_degree\u001b[39m\u001b[38;5;124m'\u001b[39m, \u001b[38;5;124m'\u001b[39m\u001b[38;5;124mdegree_list\u001b[39m\u001b[38;5;124m'\u001b[39m, \u001b[38;5;124m'\u001b[39m\u001b[38;5;124mLC\u001b[39m\u001b[38;5;124m'\u001b[39m, \u001b[38;5;124m'\u001b[39m\u001b[38;5;124mLM\u001b[39m\u001b[38;5;124m'\u001b[39m, \u001b[38;5;124m'\u001b[39m\u001b[38;5;124mLT\u001b[39m\u001b[38;5;124m'\u001b[39m, \u001b[38;5;124m'\u001b[39m\u001b[38;5;124mpdiv\u001b[39m\u001b[38;5;124m'\u001b[39m, \u001b[38;5;124m'\u001b[39m\u001b[38;5;124mprem\u001b[39m\u001b[38;5;124m'\u001b[39m, \u001b[38;5;124m'\u001b[39m\u001b[38;5;124mpquo\u001b[39m\u001b[38;5;124m'\u001b[39m,\n\u001b[0;32m   (...)\u001b[0m\n\u001b[1;32m     65\u001b[0m     \u001b[38;5;124m'\u001b[39m\u001b[38;5;124mfield\u001b[39m\u001b[38;5;124m'\u001b[39m, \u001b[38;5;124m'\u001b[39m\u001b[38;5;124mxfield\u001b[39m\u001b[38;5;124m'\u001b[39m, \u001b[38;5;124m'\u001b[39m\u001b[38;5;124mvfield\u001b[39m\u001b[38;5;124m'\u001b[39m, \u001b[38;5;124m'\u001b[39m\u001b[38;5;124msfield\u001b[39m\u001b[38;5;124m'\u001b[39m\n\u001b[1;32m     66\u001b[0m ]\n\u001b[1;32m     68\u001b[0m \u001b[38;5;28;01mfrom\u001b[39;00m \u001b[38;5;21;01m.\u001b[39;00m\u001b[38;5;21;01mpolytools\u001b[39;00m \u001b[38;5;28;01mimport\u001b[39;00m (Poly, PurePoly, poly_from_expr,\n\u001b[1;32m     69\u001b[0m         parallel_poly_from_expr, degree, total_degree, degree_list, LC, LM,\n\u001b[1;32m     70\u001b[0m         LT, pdiv, prem, pquo, pexquo, div, rem, quo, exquo, half_gcdex, gcdex,\n\u001b[0;32m   (...)\u001b[0m\n\u001b[1;32m     76\u001b[0m         nth_power_roots_poly, cancel, reduced, groebner, is_zero_dimensional,\n\u001b[1;32m     77\u001b[0m         GroebnerBasis, poly)\n\u001b[0;32m---> 79\u001b[0m \u001b[38;5;28;01mfrom\u001b[39;00m \u001b[38;5;21;01m.\u001b[39;00m\u001b[38;5;21;01mpolyfuncs\u001b[39;00m \u001b[38;5;28;01mimport\u001b[39;00m (symmetrize, horner, interpolate,\n\u001b[1;32m     80\u001b[0m         rational_interpolate, viete)\n\u001b[1;32m     82\u001b[0m \u001b[38;5;28;01mfrom\u001b[39;00m \u001b[38;5;21;01m.\u001b[39;00m\u001b[38;5;21;01mrationaltools\u001b[39;00m \u001b[38;5;28;01mimport\u001b[39;00m together\n\u001b[1;32m     84\u001b[0m \u001b[38;5;28;01mfrom\u001b[39;00m \u001b[38;5;21;01m.\u001b[39;00m\u001b[38;5;21;01mpolyerrors\u001b[39;00m \u001b[38;5;28;01mimport\u001b[39;00m (BasePolynomialError, ExactQuotientFailed,\n\u001b[1;32m     85\u001b[0m         PolynomialDivisionFailed, OperationNotSupported, HeuristicGCDFailed,\n\u001b[1;32m     86\u001b[0m         HomomorphismFailed, IsomorphismFailed, ExtraneousFactors,\n\u001b[0;32m   (...)\u001b[0m\n\u001b[1;32m     91\u001b[0m         MultivariatePolynomialError, PolificationFailed, OptionError,\n\u001b[1;32m     92\u001b[0m         FlagError)\n",
      "File \u001b[0;32m~/Desktop/DCD_RL/.venv/lib/python3.12/site-packages/sympy/polys/polyfuncs.py:10\u001b[0m\n\u001b[1;32m      8\u001b[0m \u001b[38;5;28;01mfrom\u001b[39;00m \u001b[38;5;21;01msympy\u001b[39;00m\u001b[38;5;21;01m.\u001b[39;00m\u001b[38;5;21;01mpolys\u001b[39;00m\u001b[38;5;21;01m.\u001b[39;00m\u001b[38;5;21;01mpolyoptions\u001b[39;00m \u001b[38;5;28;01mimport\u001b[39;00m allowed_flags, build_options\n\u001b[1;32m      9\u001b[0m \u001b[38;5;28;01mfrom\u001b[39;00m \u001b[38;5;21;01msympy\u001b[39;00m\u001b[38;5;21;01m.\u001b[39;00m\u001b[38;5;21;01mpolys\u001b[39;00m\u001b[38;5;21;01m.\u001b[39;00m\u001b[38;5;21;01mpolytools\u001b[39;00m \u001b[38;5;28;01mimport\u001b[39;00m poly_from_expr, Poly\n\u001b[0;32m---> 10\u001b[0m \u001b[38;5;28;01mfrom\u001b[39;00m \u001b[38;5;21;01msympy\u001b[39;00m\u001b[38;5;21;01m.\u001b[39;00m\u001b[38;5;21;01mpolys\u001b[39;00m\u001b[38;5;21;01m.\u001b[39;00m\u001b[38;5;21;01mspecialpolys\u001b[39;00m \u001b[38;5;28;01mimport\u001b[39;00m (\n\u001b[1;32m     11\u001b[0m     symmetric_poly, interpolating_poly)\n\u001b[1;32m     12\u001b[0m \u001b[38;5;28;01mfrom\u001b[39;00m \u001b[38;5;21;01msympy\u001b[39;00m\u001b[38;5;21;01m.\u001b[39;00m\u001b[38;5;21;01mpolys\u001b[39;00m\u001b[38;5;21;01m.\u001b[39;00m\u001b[38;5;21;01mrings\u001b[39;00m \u001b[38;5;28;01mimport\u001b[39;00m sring\n\u001b[1;32m     13\u001b[0m \u001b[38;5;28;01mfrom\u001b[39;00m \u001b[38;5;21;01msympy\u001b[39;00m\u001b[38;5;21;01m.\u001b[39;00m\u001b[38;5;21;01mutilities\u001b[39;00m \u001b[38;5;28;01mimport\u001b[39;00m numbered_symbols, take, public\n",
      "File \u001b[0;32m~/Desktop/DCD_RL/.venv/lib/python3.12/site-packages/sympy/polys/specialpolys.py:298\u001b[0m\n\u001b[1;32m    294\u001b[0m     \u001b[38;5;28;01mreturn\u001b[39;00m dmp_mul(f, h, n, K), dmp_mul(g, h, n, K), h\n\u001b[1;32m    296\u001b[0m \u001b[38;5;66;03m# A few useful polynomials from Wang's paper ('78).\u001b[39;00m\n\u001b[0;32m--> 298\u001b[0m \u001b[38;5;28;01mfrom\u001b[39;00m \u001b[38;5;21;01msympy\u001b[39;00m\u001b[38;5;21;01m.\u001b[39;00m\u001b[38;5;21;01mpolys\u001b[39;00m\u001b[38;5;21;01m.\u001b[39;00m\u001b[38;5;21;01mrings\u001b[39;00m \u001b[38;5;28;01mimport\u001b[39;00m ring\n\u001b[1;32m    300\u001b[0m \u001b[38;5;28;01mdef\u001b[39;00m \u001b[38;5;21m_f_0\u001b[39m():\n\u001b[1;32m    301\u001b[0m     R, x, y, z \u001b[38;5;241m=\u001b[39m ring(\u001b[38;5;124m\"\u001b[39m\u001b[38;5;124mx,y,z\u001b[39m\u001b[38;5;124m\"\u001b[39m, ZZ)\n",
      "File \u001b[0;32m~/Desktop/DCD_RL/.venv/lib/python3.12/site-packages/sympy/polys/rings.py:30\u001b[0m\n\u001b[1;32m     26\u001b[0m \u001b[38;5;28;01mfrom\u001b[39;00m \u001b[38;5;21;01msympy\u001b[39;00m\u001b[38;5;21;01m.\u001b[39;00m\u001b[38;5;21;01mpolys\u001b[39;00m\u001b[38;5;21;01m.\u001b[39;00m\u001b[38;5;21;01mpolyoptions\u001b[39;00m \u001b[38;5;28;01mimport\u001b[39;00m (Domain \u001b[38;5;28;01mas\u001b[39;00m DomainOpt,\n\u001b[1;32m     27\u001b[0m                                      Order \u001b[38;5;28;01mas\u001b[39;00m OrderOpt, build_options)\n\u001b[1;32m     28\u001b[0m \u001b[38;5;28;01mfrom\u001b[39;00m \u001b[38;5;21;01msympy\u001b[39;00m\u001b[38;5;21;01m.\u001b[39;00m\u001b[38;5;21;01mpolys\u001b[39;00m\u001b[38;5;21;01m.\u001b[39;00m\u001b[38;5;21;01mpolyutils\u001b[39;00m \u001b[38;5;28;01mimport\u001b[39;00m (expr_from_dict, _dict_reorder,\n\u001b[1;32m     29\u001b[0m                                    _parallel_dict_from_expr)\n\u001b[0;32m---> 30\u001b[0m \u001b[38;5;28;01mfrom\u001b[39;00m \u001b[38;5;21;01msympy\u001b[39;00m\u001b[38;5;21;01m.\u001b[39;00m\u001b[38;5;21;01mprinting\u001b[39;00m\u001b[38;5;21;01m.\u001b[39;00m\u001b[38;5;21;01mdefaults\u001b[39;00m \u001b[38;5;28;01mimport\u001b[39;00m DefaultPrinting\n\u001b[1;32m     31\u001b[0m \u001b[38;5;28;01mfrom\u001b[39;00m \u001b[38;5;21;01msympy\u001b[39;00m\u001b[38;5;21;01m.\u001b[39;00m\u001b[38;5;21;01mutilities\u001b[39;00m \u001b[38;5;28;01mimport\u001b[39;00m public, subsets\n\u001b[1;32m     32\u001b[0m \u001b[38;5;28;01mfrom\u001b[39;00m \u001b[38;5;21;01msympy\u001b[39;00m\u001b[38;5;21;01m.\u001b[39;00m\u001b[38;5;21;01mutilities\u001b[39;00m\u001b[38;5;21;01m.\u001b[39;00m\u001b[38;5;21;01miterables\u001b[39;00m \u001b[38;5;28;01mimport\u001b[39;00m is_sequence\n",
      "File \u001b[0;32m~/Desktop/DCD_RL/.venv/lib/python3.12/site-packages/sympy/printing/__init__.py:11\u001b[0m\n\u001b[1;32m      7\u001b[0m \u001b[38;5;28;01mfrom\u001b[39;00m \u001b[38;5;21;01m.\u001b[39;00m\u001b[38;5;21;01mmathml\u001b[39;00m \u001b[38;5;28;01mimport\u001b[39;00m mathml, print_mathml\n\u001b[1;32m      9\u001b[0m \u001b[38;5;28;01mfrom\u001b[39;00m \u001b[38;5;21;01m.\u001b[39;00m\u001b[38;5;21;01mpython\u001b[39;00m \u001b[38;5;28;01mimport\u001b[39;00m python, print_python\n\u001b[0;32m---> 11\u001b[0m \u001b[38;5;28;01mfrom\u001b[39;00m \u001b[38;5;21;01m.\u001b[39;00m\u001b[38;5;21;01mpycode\u001b[39;00m \u001b[38;5;28;01mimport\u001b[39;00m pycode\n\u001b[1;32m     13\u001b[0m \u001b[38;5;28;01mfrom\u001b[39;00m \u001b[38;5;21;01m.\u001b[39;00m\u001b[38;5;21;01mcodeprinter\u001b[39;00m \u001b[38;5;28;01mimport\u001b[39;00m print_ccode, print_fcode\n\u001b[1;32m     15\u001b[0m \u001b[38;5;28;01mfrom\u001b[39;00m \u001b[38;5;21;01m.\u001b[39;00m\u001b[38;5;21;01mcodeprinter\u001b[39;00m \u001b[38;5;28;01mimport\u001b[39;00m ccode, fcode, cxxcode \u001b[38;5;66;03m# noqa:F811\u001b[39;00m\n",
      "File \u001b[0;32m~/Desktop/DCD_RL/.venv/lib/python3.12/site-packages/sympy/printing/pycode.py:11\u001b[0m\n\u001b[1;32m      9\u001b[0m \u001b[38;5;28;01mfrom\u001b[39;00m \u001b[38;5;21;01msympy\u001b[39;00m\u001b[38;5;21;01m.\u001b[39;00m\u001b[38;5;21;01mcore\u001b[39;00m\u001b[38;5;21;01m.\u001b[39;00m\u001b[38;5;21;01mmod\u001b[39;00m \u001b[38;5;28;01mimport\u001b[39;00m Mod\n\u001b[1;32m     10\u001b[0m \u001b[38;5;28;01mfrom\u001b[39;00m \u001b[38;5;21;01m.\u001b[39;00m\u001b[38;5;21;01mprecedence\u001b[39;00m \u001b[38;5;28;01mimport\u001b[39;00m precedence\n\u001b[0;32m---> 11\u001b[0m \u001b[38;5;28;01mfrom\u001b[39;00m \u001b[38;5;21;01m.\u001b[39;00m\u001b[38;5;21;01mcodeprinter\u001b[39;00m \u001b[38;5;28;01mimport\u001b[39;00m CodePrinter\n\u001b[1;32m     13\u001b[0m _kw \u001b[38;5;241m=\u001b[39m {\n\u001b[1;32m     14\u001b[0m     \u001b[38;5;124m'\u001b[39m\u001b[38;5;124mand\u001b[39m\u001b[38;5;124m'\u001b[39m, \u001b[38;5;124m'\u001b[39m\u001b[38;5;124mas\u001b[39m\u001b[38;5;124m'\u001b[39m, \u001b[38;5;124m'\u001b[39m\u001b[38;5;124massert\u001b[39m\u001b[38;5;124m'\u001b[39m, \u001b[38;5;124m'\u001b[39m\u001b[38;5;124mbreak\u001b[39m\u001b[38;5;124m'\u001b[39m, \u001b[38;5;124m'\u001b[39m\u001b[38;5;124mclass\u001b[39m\u001b[38;5;124m'\u001b[39m, \u001b[38;5;124m'\u001b[39m\u001b[38;5;124mcontinue\u001b[39m\u001b[38;5;124m'\u001b[39m, \u001b[38;5;124m'\u001b[39m\u001b[38;5;124mdef\u001b[39m\u001b[38;5;124m'\u001b[39m, \u001b[38;5;124m'\u001b[39m\u001b[38;5;124mdel\u001b[39m\u001b[38;5;124m'\u001b[39m, \u001b[38;5;124m'\u001b[39m\u001b[38;5;124melif\u001b[39m\u001b[38;5;124m'\u001b[39m,\n\u001b[1;32m     15\u001b[0m     \u001b[38;5;124m'\u001b[39m\u001b[38;5;124melse\u001b[39m\u001b[38;5;124m'\u001b[39m, \u001b[38;5;124m'\u001b[39m\u001b[38;5;124mexcept\u001b[39m\u001b[38;5;124m'\u001b[39m, \u001b[38;5;124m'\u001b[39m\u001b[38;5;124mfinally\u001b[39m\u001b[38;5;124m'\u001b[39m, \u001b[38;5;124m'\u001b[39m\u001b[38;5;124mfor\u001b[39m\u001b[38;5;124m'\u001b[39m, \u001b[38;5;124m'\u001b[39m\u001b[38;5;124mfrom\u001b[39m\u001b[38;5;124m'\u001b[39m, \u001b[38;5;124m'\u001b[39m\u001b[38;5;124mglobal\u001b[39m\u001b[38;5;124m'\u001b[39m, \u001b[38;5;124m'\u001b[39m\u001b[38;5;124mif\u001b[39m\u001b[38;5;124m'\u001b[39m, \u001b[38;5;124m'\u001b[39m\u001b[38;5;124mimport\u001b[39m\u001b[38;5;124m'\u001b[39m, \u001b[38;5;124m'\u001b[39m\u001b[38;5;124min\u001b[39m\u001b[38;5;124m'\u001b[39m,\n\u001b[1;32m     16\u001b[0m     \u001b[38;5;124m'\u001b[39m\u001b[38;5;124mis\u001b[39m\u001b[38;5;124m'\u001b[39m, \u001b[38;5;124m'\u001b[39m\u001b[38;5;124mlambda\u001b[39m\u001b[38;5;124m'\u001b[39m, \u001b[38;5;124m'\u001b[39m\u001b[38;5;124mnot\u001b[39m\u001b[38;5;124m'\u001b[39m, \u001b[38;5;124m'\u001b[39m\u001b[38;5;124mor\u001b[39m\u001b[38;5;124m'\u001b[39m, \u001b[38;5;124m'\u001b[39m\u001b[38;5;124mpass\u001b[39m\u001b[38;5;124m'\u001b[39m, \u001b[38;5;124m'\u001b[39m\u001b[38;5;124mraise\u001b[39m\u001b[38;5;124m'\u001b[39m, \u001b[38;5;124m'\u001b[39m\u001b[38;5;124mreturn\u001b[39m\u001b[38;5;124m'\u001b[39m, \u001b[38;5;124m'\u001b[39m\u001b[38;5;124mtry\u001b[39m\u001b[38;5;124m'\u001b[39m, \u001b[38;5;124m'\u001b[39m\u001b[38;5;124mwhile\u001b[39m\u001b[38;5;124m'\u001b[39m,\n\u001b[1;32m     17\u001b[0m     \u001b[38;5;124m'\u001b[39m\u001b[38;5;124mwith\u001b[39m\u001b[38;5;124m'\u001b[39m, \u001b[38;5;124m'\u001b[39m\u001b[38;5;124myield\u001b[39m\u001b[38;5;124m'\u001b[39m, \u001b[38;5;124m'\u001b[39m\u001b[38;5;124mNone\u001b[39m\u001b[38;5;124m'\u001b[39m, \u001b[38;5;124m'\u001b[39m\u001b[38;5;124mFalse\u001b[39m\u001b[38;5;124m'\u001b[39m, \u001b[38;5;124m'\u001b[39m\u001b[38;5;124mnonlocal\u001b[39m\u001b[38;5;124m'\u001b[39m, \u001b[38;5;124m'\u001b[39m\u001b[38;5;124mTrue\u001b[39m\u001b[38;5;124m'\u001b[39m\n\u001b[1;32m     18\u001b[0m }\n\u001b[1;32m     20\u001b[0m _known_functions \u001b[38;5;241m=\u001b[39m {\n\u001b[1;32m     21\u001b[0m     \u001b[38;5;124m'\u001b[39m\u001b[38;5;124mAbs\u001b[39m\u001b[38;5;124m'\u001b[39m: \u001b[38;5;124m'\u001b[39m\u001b[38;5;124mabs\u001b[39m\u001b[38;5;124m'\u001b[39m,\n\u001b[1;32m     22\u001b[0m     \u001b[38;5;124m'\u001b[39m\u001b[38;5;124mMin\u001b[39m\u001b[38;5;124m'\u001b[39m: \u001b[38;5;124m'\u001b[39m\u001b[38;5;124mmin\u001b[39m\u001b[38;5;124m'\u001b[39m,\n\u001b[1;32m     23\u001b[0m     \u001b[38;5;124m'\u001b[39m\u001b[38;5;124mMax\u001b[39m\u001b[38;5;124m'\u001b[39m: \u001b[38;5;124m'\u001b[39m\u001b[38;5;124mmax\u001b[39m\u001b[38;5;124m'\u001b[39m,\n\u001b[1;32m     24\u001b[0m }\n",
      "File \u001b[0;32m~/Desktop/DCD_RL/.venv/lib/python3.12/site-packages/sympy/printing/codeprinter.py:13\u001b[0m\n\u001b[1;32m     11\u001b[0m \u001b[38;5;28;01mfrom\u001b[39;00m \u001b[38;5;21;01msympy\u001b[39;00m\u001b[38;5;21;01m.\u001b[39;00m\u001b[38;5;21;01mcore\u001b[39;00m\u001b[38;5;21;01m.\u001b[39;00m\u001b[38;5;21;01msorting\u001b[39;00m \u001b[38;5;28;01mimport\u001b[39;00m default_sort_key\n\u001b[1;32m     12\u001b[0m \u001b[38;5;28;01mfrom\u001b[39;00m \u001b[38;5;21;01msympy\u001b[39;00m\u001b[38;5;21;01m.\u001b[39;00m\u001b[38;5;21;01mcore\u001b[39;00m\u001b[38;5;21;01m.\u001b[39;00m\u001b[38;5;21;01msymbol\u001b[39;00m \u001b[38;5;28;01mimport\u001b[39;00m Symbol\n\u001b[0;32m---> 13\u001b[0m \u001b[38;5;28;01mfrom\u001b[39;00m \u001b[38;5;21;01msympy\u001b[39;00m\u001b[38;5;21;01m.\u001b[39;00m\u001b[38;5;21;01mfunctions\u001b[39;00m\u001b[38;5;21;01m.\u001b[39;00m\u001b[38;5;21;01melementary\u001b[39;00m\u001b[38;5;21;01m.\u001b[39;00m\u001b[38;5;21;01mcomplexes\u001b[39;00m \u001b[38;5;28;01mimport\u001b[39;00m re\n\u001b[1;32m     14\u001b[0m \u001b[38;5;28;01mfrom\u001b[39;00m \u001b[38;5;21;01msympy\u001b[39;00m\u001b[38;5;21;01m.\u001b[39;00m\u001b[38;5;21;01mprinting\u001b[39;00m\u001b[38;5;21;01m.\u001b[39;00m\u001b[38;5;21;01mstr\u001b[39;00m \u001b[38;5;28;01mimport\u001b[39;00m StrPrinter\n\u001b[1;32m     15\u001b[0m \u001b[38;5;28;01mfrom\u001b[39;00m \u001b[38;5;21;01msympy\u001b[39;00m\u001b[38;5;21;01m.\u001b[39;00m\u001b[38;5;21;01mprinting\u001b[39;00m\u001b[38;5;21;01m.\u001b[39;00m\u001b[38;5;21;01mprecedence\u001b[39;00m \u001b[38;5;28;01mimport\u001b[39;00m precedence, PRECEDENCE\n",
      "File \u001b[0;32m~/Desktop/DCD_RL/.venv/lib/python3.12/site-packages/sympy/functions/__init__.py:10\u001b[0m\n\u001b[1;32m      1\u001b[0m \u001b[38;5;124;03m\"\"\"A functions module, includes all the standard functions.\u001b[39;00m\n\u001b[1;32m      2\u001b[0m \n\u001b[1;32m      3\u001b[0m \u001b[38;5;124;03mCombinatorial - factorial, fibonacci, harmonic, bernoulli...\u001b[39;00m\n\u001b[1;32m      4\u001b[0m \u001b[38;5;124;03mElementary - hyperbolic, trigonometric, exponential, floor and ceiling, sqrt...\u001b[39;00m\n\u001b[1;32m      5\u001b[0m \u001b[38;5;124;03mSpecial - gamma, zeta,spherical harmonics...\u001b[39;00m\n\u001b[1;32m      6\u001b[0m \u001b[38;5;124;03m\"\"\"\u001b[39;00m\n\u001b[1;32m      8\u001b[0m \u001b[38;5;28;01mfrom\u001b[39;00m \u001b[38;5;21;01msympy\u001b[39;00m\u001b[38;5;21;01m.\u001b[39;00m\u001b[38;5;21;01mfunctions\u001b[39;00m\u001b[38;5;21;01m.\u001b[39;00m\u001b[38;5;21;01mcombinatorial\u001b[39;00m\u001b[38;5;21;01m.\u001b[39;00m\u001b[38;5;21;01mfactorials\u001b[39;00m \u001b[38;5;28;01mimport\u001b[39;00m (factorial, factorial2,\n\u001b[1;32m      9\u001b[0m         rf, ff, binomial, RisingFactorial, FallingFactorial, subfactorial)\n\u001b[0;32m---> 10\u001b[0m \u001b[38;5;28;01mfrom\u001b[39;00m \u001b[38;5;21;01msympy\u001b[39;00m\u001b[38;5;21;01m.\u001b[39;00m\u001b[38;5;21;01mfunctions\u001b[39;00m\u001b[38;5;21;01m.\u001b[39;00m\u001b[38;5;21;01mcombinatorial\u001b[39;00m\u001b[38;5;21;01m.\u001b[39;00m\u001b[38;5;21;01mnumbers\u001b[39;00m \u001b[38;5;28;01mimport\u001b[39;00m (carmichael, fibonacci, lucas, tribonacci,\n\u001b[1;32m     11\u001b[0m         harmonic, bernoulli, bell, euler, catalan, genocchi, andre, partition, divisor_sigma,\n\u001b[1;32m     12\u001b[0m         udivisor_sigma, legendre_symbol, jacobi_symbol, kronecker_symbol, mobius,\n\u001b[1;32m     13\u001b[0m         primenu, primeomega, totient, reduced_totient, primepi, motzkin)\n\u001b[1;32m     14\u001b[0m \u001b[38;5;28;01mfrom\u001b[39;00m \u001b[38;5;21;01msympy\u001b[39;00m\u001b[38;5;21;01m.\u001b[39;00m\u001b[38;5;21;01mfunctions\u001b[39;00m\u001b[38;5;21;01m.\u001b[39;00m\u001b[38;5;21;01melementary\u001b[39;00m\u001b[38;5;21;01m.\u001b[39;00m\u001b[38;5;21;01mmiscellaneous\u001b[39;00m \u001b[38;5;28;01mimport\u001b[39;00m (sqrt, root, Min, Max,\n\u001b[1;32m     15\u001b[0m         Id, real_root, cbrt, Rem)\n\u001b[1;32m     16\u001b[0m \u001b[38;5;28;01mfrom\u001b[39;00m \u001b[38;5;21;01msympy\u001b[39;00m\u001b[38;5;21;01m.\u001b[39;00m\u001b[38;5;21;01mfunctions\u001b[39;00m\u001b[38;5;21;01m.\u001b[39;00m\u001b[38;5;21;01melementary\u001b[39;00m\u001b[38;5;21;01m.\u001b[39;00m\u001b[38;5;21;01mcomplexes\u001b[39;00m \u001b[38;5;28;01mimport\u001b[39;00m (re, im, sign, Abs,\n\u001b[1;32m     17\u001b[0m         conjugate, arg, polar_lift, periodic_argument, unbranched_argument,\n\u001b[1;32m     18\u001b[0m         principal_branch, transpose, adjoint, polarify, unpolarify)\n",
      "File \u001b[0;32m~/Desktop/DCD_RL/.venv/lib/python3.12/site-packages/sympy/functions/combinatorial/numbers.py:25\u001b[0m\n\u001b[1;32m     22\u001b[0m \u001b[38;5;28;01mfrom\u001b[39;00m \u001b[38;5;21;01msympy\u001b[39;00m\u001b[38;5;21;01m.\u001b[39;00m\u001b[38;5;21;01mexternal\u001b[39;00m\u001b[38;5;21;01m.\u001b[39;00m\u001b[38;5;21;01mgmpy\u001b[39;00m \u001b[38;5;28;01mimport\u001b[39;00m SYMPY_INTS, remove, lcm, legendre, jacobi, kronecker\n\u001b[1;32m     23\u001b[0m \u001b[38;5;28;01mfrom\u001b[39;00m \u001b[38;5;21;01msympy\u001b[39;00m\u001b[38;5;21;01m.\u001b[39;00m\u001b[38;5;21;01mfunctions\u001b[39;00m\u001b[38;5;21;01m.\u001b[39;00m\u001b[38;5;21;01mcombinatorial\u001b[39;00m\u001b[38;5;21;01m.\u001b[39;00m\u001b[38;5;21;01mfactorials\u001b[39;00m \u001b[38;5;28;01mimport\u001b[39;00m (binomial,\n\u001b[1;32m     24\u001b[0m     factorial, subfactorial)\n\u001b[0;32m---> 25\u001b[0m \u001b[38;5;28;01mfrom\u001b[39;00m \u001b[38;5;21;01msympy\u001b[39;00m\u001b[38;5;21;01m.\u001b[39;00m\u001b[38;5;21;01mfunctions\u001b[39;00m\u001b[38;5;21;01m.\u001b[39;00m\u001b[38;5;21;01melementary\u001b[39;00m\u001b[38;5;21;01m.\u001b[39;00m\u001b[38;5;21;01mexponential\u001b[39;00m \u001b[38;5;28;01mimport\u001b[39;00m log\n\u001b[1;32m     26\u001b[0m \u001b[38;5;28;01mfrom\u001b[39;00m \u001b[38;5;21;01msympy\u001b[39;00m\u001b[38;5;21;01m.\u001b[39;00m\u001b[38;5;21;01mfunctions\u001b[39;00m\u001b[38;5;21;01m.\u001b[39;00m\u001b[38;5;21;01melementary\u001b[39;00m\u001b[38;5;21;01m.\u001b[39;00m\u001b[38;5;21;01mpiecewise\u001b[39;00m \u001b[38;5;28;01mimport\u001b[39;00m Piecewise\n\u001b[1;32m     27\u001b[0m \u001b[38;5;28;01mfrom\u001b[39;00m \u001b[38;5;21;01msympy\u001b[39;00m\u001b[38;5;21;01m.\u001b[39;00m\u001b[38;5;21;01mntheory\u001b[39;00m\u001b[38;5;21;01m.\u001b[39;00m\u001b[38;5;21;01mfactor_\u001b[39;00m \u001b[38;5;28;01mimport\u001b[39;00m (factorint, _divisor_sigma, is_carmichael,\n\u001b[1;32m     28\u001b[0m                                    find_carmichael_numbers_in_range, find_first_n_carmichaels)\n",
      "File \u001b[0;32m~/Desktop/DCD_RL/.venv/lib/python3.12/site-packages/sympy/functions/elementary/exponential.py:608\u001b[0m\n\u001b[1;32m    604\u001b[0m     \u001b[38;5;28;01melse\u001b[39;00m:\n\u001b[1;32m    605\u001b[0m         \u001b[38;5;28;01mreturn\u001b[39;00m (\u001b[38;5;28;01mNone\u001b[39;00m, \u001b[38;5;28;01mNone\u001b[39;00m) \u001b[38;5;66;03m# simpler to check for than None\u001b[39;00m\n\u001b[0;32m--> 608\u001b[0m \u001b[38;5;28;43;01mclass\u001b[39;49;00m\u001b[43m \u001b[49m\u001b[38;5;21;43;01mlog\u001b[39;49;00m\u001b[43m(\u001b[49m\u001b[43mFunction\u001b[49m\u001b[43m)\u001b[49m\u001b[43m:\u001b[49m\n\u001b[1;32m    609\u001b[0m \u001b[38;5;250;43m    \u001b[39;49m\u001b[38;5;124;43mr\u001b[39;49m\u001b[38;5;124;43;03m\"\"\"\u001b[39;49;00m\n\u001b[1;32m    610\u001b[0m \u001b[38;5;124;43;03m    The natural logarithm function `\\ln(x)` or `\\log(x)`.\u001b[39;49;00m\n\u001b[1;32m    611\u001b[0m \n\u001b[0;32m   (...)\u001b[0m\n\u001b[1;32m    639\u001b[0m \n\u001b[1;32m    640\u001b[0m \u001b[38;5;124;43;03m    \"\"\"\u001b[39;49;00m\n\u001b[1;32m    642\u001b[0m \u001b[43m    \u001b[49m\u001b[43margs\u001b[49m\u001b[43m:\u001b[49m\u001b[43m \u001b[49m\u001b[43mtTuple\u001b[49m\u001b[43m[\u001b[49m\u001b[43mExpr\u001b[49m\u001b[43m]\u001b[49m\n",
      "File \u001b[0;32m~/Desktop/DCD_RL/.venv/lib/python3.12/site-packages/sympy/core/function.py:184\u001b[0m, in \u001b[0;36mFunctionClass.__init__\u001b[0;34m(cls, *args, **kwargs)\u001b[0m\n\u001b[1;32m    176\u001b[0m     \u001b[38;5;28;01mif\u001b[39;00m \u001b[38;5;129;01mnot\u001b[39;00m nargs:\n\u001b[1;32m    177\u001b[0m         \u001b[38;5;28;01mraise\u001b[39;00m \u001b[38;5;167;01mValueError\u001b[39;00m(filldedent(\u001b[38;5;124m'''\u001b[39m\n\u001b[1;32m    178\u001b[0m \u001b[38;5;124m            Incorrectly specified nargs as \u001b[39m\u001b[38;5;132;01m%s\u001b[39;00m\u001b[38;5;124m:\u001b[39m\n\u001b[1;32m    179\u001b[0m \u001b[38;5;124m            if there are no arguments, it should be\u001b[39m\n\u001b[0;32m   (...)\u001b[0m\n\u001b[1;32m    182\u001b[0m \u001b[38;5;124m            it should be\u001b[39m\n\u001b[1;32m    183\u001b[0m \u001b[38;5;124m            `nargs = None`\u001b[39m\u001b[38;5;124m'''\u001b[39m \u001b[38;5;241m%\u001b[39m \u001b[38;5;28mstr\u001b[39m(nargs)))\n\u001b[0;32m--> 184\u001b[0m     nargs \u001b[38;5;241m=\u001b[39m \u001b[38;5;28;43mtuple\u001b[39;49m\u001b[43m(\u001b[49m\u001b[43mordered\u001b[49m\u001b[43m(\u001b[49m\u001b[38;5;28;43mset\u001b[39;49m\u001b[43m(\u001b[49m\u001b[43mnargs\u001b[49m\u001b[43m)\u001b[49m\u001b[43m)\u001b[49m\u001b[43m)\u001b[49m\n\u001b[1;32m    185\u001b[0m \u001b[38;5;28;01melif\u001b[39;00m nargs \u001b[38;5;129;01mis\u001b[39;00m \u001b[38;5;129;01mnot\u001b[39;00m \u001b[38;5;28;01mNone\u001b[39;00m:\n\u001b[1;32m    186\u001b[0m     nargs \u001b[38;5;241m=\u001b[39m (as_int(nargs),)\n",
      "File \u001b[0;32m~/Desktop/DCD_RL/.venv/lib/python3.12/site-packages/sympy/core/sorting.py:312\u001b[0m, in \u001b[0;36mordered\u001b[0;34m(seq, keys, default, warn)\u001b[0m\n\u001b[1;32m    309\u001b[0m         \u001b[38;5;28;01mif\u001b[39;00m \u001b[38;5;28mlen\u001b[39m(u) \u001b[38;5;241m>\u001b[39m \u001b[38;5;241m1\u001b[39m:\n\u001b[1;32m    310\u001b[0m             \u001b[38;5;28;01mraise\u001b[39;00m \u001b[38;5;167;01mValueError\u001b[39;00m(\n\u001b[1;32m    311\u001b[0m                 \u001b[38;5;124m'\u001b[39m\u001b[38;5;124mnot enough keys to break ties: \u001b[39m\u001b[38;5;132;01m%s\u001b[39;00m\u001b[38;5;124m'\u001b[39m \u001b[38;5;241m%\u001b[39m u)\n\u001b[0;32m--> 312\u001b[0m \u001b[38;5;28;01myield from\u001b[39;00m value\n",
      "File \u001b[0;32m~/Desktop/DCD_RL/.venv/lib/python3.12/site-packages/sympy/core/sorting.py:312\u001b[0m, in \u001b[0;36mordered\u001b[0;34m(seq, keys, default, warn)\u001b[0m\n\u001b[1;32m    309\u001b[0m         \u001b[38;5;28;01mif\u001b[39;00m \u001b[38;5;28mlen\u001b[39m(u) \u001b[38;5;241m>\u001b[39m \u001b[38;5;241m1\u001b[39m:\n\u001b[1;32m    310\u001b[0m             \u001b[38;5;28;01mraise\u001b[39;00m \u001b[38;5;167;01mValueError\u001b[39;00m(\n\u001b[1;32m    311\u001b[0m                 \u001b[38;5;124m'\u001b[39m\u001b[38;5;124mnot enough keys to break ties: \u001b[39m\u001b[38;5;132;01m%s\u001b[39;00m\u001b[38;5;124m'\u001b[39m \u001b[38;5;241m%\u001b[39m u)\n\u001b[0;32m--> 312\u001b[0m \u001b[38;5;28;01myield from\u001b[39;00m value\n",
      "File \u001b[0;32m~/Desktop/DCD_RL/.venv/lib/python3.12/site-packages/sympy/core/sorting.py:294\u001b[0m, in \u001b[0;36mordered\u001b[0;34m(seq, keys, default, warn)\u001b[0m\n\u001b[1;32m    292\u001b[0m         keys \u001b[38;5;241m=\u001b[39m []\n\u001b[1;32m    293\u001b[0m     \u001b[38;5;28;01mfor\u001b[39;00m a \u001b[38;5;129;01min\u001b[39;00m seq:\n\u001b[0;32m--> 294\u001b[0m         d[\u001b[43mf\u001b[49m\u001b[43m(\u001b[49m\u001b[43ma\u001b[49m\u001b[43m)\u001b[49m]\u001b[38;5;241m.\u001b[39mappend(a)\n\u001b[1;32m    295\u001b[0m \u001b[38;5;28;01melse\u001b[39;00m:\n\u001b[1;32m    296\u001b[0m     \u001b[38;5;28;01mif\u001b[39;00m \u001b[38;5;129;01mnot\u001b[39;00m default:\n",
      "File \u001b[0;32m~/Desktop/DCD_RL/.venv/lib/python3.12/site-packages/sympy/core/sorting.py:151\u001b[0m, in \u001b[0;36mdefault_sort_key\u001b[0;34m(item, order)\u001b[0m\n\u001b[1;32m    149\u001b[0m \u001b[38;5;28;01mif\u001b[39;00m \u001b[38;5;129;01mnot\u001b[39;00m \u001b[38;5;28misinstance\u001b[39m(item, \u001b[38;5;28mstr\u001b[39m):\n\u001b[1;32m    150\u001b[0m     \u001b[38;5;28;01mtry\u001b[39;00m:\n\u001b[0;32m--> 151\u001b[0m         item \u001b[38;5;241m=\u001b[39m \u001b[43msympify\u001b[49m\u001b[43m(\u001b[49m\u001b[43mitem\u001b[49m\u001b[43m,\u001b[49m\u001b[43m \u001b[49m\u001b[43mstrict\u001b[49m\u001b[38;5;241;43m=\u001b[39;49m\u001b[38;5;28;43;01mTrue\u001b[39;49;00m\u001b[43m)\u001b[49m\n\u001b[1;32m    152\u001b[0m     \u001b[38;5;28;01mexcept\u001b[39;00m SympifyError:\n\u001b[1;32m    153\u001b[0m         \u001b[38;5;66;03m# e.g. lambda x: x\u001b[39;00m\n\u001b[1;32m    154\u001b[0m         \u001b[38;5;28;01mpass\u001b[39;00m\n",
      "File \u001b[0;32m~/Desktop/DCD_RL/.venv/lib/python3.12/site-packages/sympy/core/sympify.py:449\u001b[0m, in \u001b[0;36msympify\u001b[0;34m(a, locals, convert_xor, strict, rational, evaluate)\u001b[0m\n\u001b[1;32m    445\u001b[0m                 \u001b[38;5;28;01mpass\u001b[39;00m\n\u001b[1;32m    446\u001b[0m \u001b[38;5;28;01melif\u001b[39;00m \u001b[38;5;28mhasattr\u001b[39m(a, \u001b[38;5;124m'\u001b[39m\u001b[38;5;124m__float__\u001b[39m\u001b[38;5;124m'\u001b[39m):\n\u001b[1;32m    447\u001b[0m     \u001b[38;5;66;03m# float and int can coerce size-one numpy arrays to their lone\u001b[39;00m\n\u001b[1;32m    448\u001b[0m     \u001b[38;5;66;03m# element.  See issue https://github.com/numpy/numpy/issues/10404.\u001b[39;00m\n\u001b[0;32m--> 449\u001b[0m     \u001b[38;5;28;01mreturn\u001b[39;00m \u001b[43msympify\u001b[49m\u001b[43m(\u001b[49m\u001b[38;5;28;43mfloat\u001b[39;49m\u001b[43m(\u001b[49m\u001b[43ma\u001b[49m\u001b[43m)\u001b[49m\u001b[43m)\u001b[49m\n\u001b[1;32m    450\u001b[0m \u001b[38;5;28;01melif\u001b[39;00m \u001b[38;5;28mhasattr\u001b[39m(a, \u001b[38;5;124m'\u001b[39m\u001b[38;5;124m__int__\u001b[39m\u001b[38;5;124m'\u001b[39m):\n\u001b[1;32m    451\u001b[0m     \u001b[38;5;28;01mreturn\u001b[39;00m sympify(\u001b[38;5;28mint\u001b[39m(a))\n",
      "File \u001b[0;32m~/Desktop/DCD_RL/.venv/lib/python3.12/site-packages/sympy/core/sympify.py:449\u001b[0m, in \u001b[0;36msympify\u001b[0;34m(a, locals, convert_xor, strict, rational, evaluate)\u001b[0m\n\u001b[1;32m    445\u001b[0m                 \u001b[38;5;28;01mpass\u001b[39;00m\n\u001b[1;32m    446\u001b[0m \u001b[38;5;28;01melif\u001b[39;00m \u001b[38;5;28mhasattr\u001b[39m(a, \u001b[38;5;124m'\u001b[39m\u001b[38;5;124m__float__\u001b[39m\u001b[38;5;124m'\u001b[39m):\n\u001b[1;32m    447\u001b[0m     \u001b[38;5;66;03m# float and int can coerce size-one numpy arrays to their lone\u001b[39;00m\n\u001b[1;32m    448\u001b[0m     \u001b[38;5;66;03m# element.  See issue https://github.com/numpy/numpy/issues/10404.\u001b[39;00m\n\u001b[0;32m--> 449\u001b[0m     \u001b[38;5;28;01mreturn\u001b[39;00m \u001b[43msympify\u001b[49m\u001b[43m(\u001b[49m\u001b[38;5;28;43mfloat\u001b[39;49m\u001b[43m(\u001b[49m\u001b[43ma\u001b[49m\u001b[43m)\u001b[49m\u001b[43m)\u001b[49m\n\u001b[1;32m    450\u001b[0m \u001b[38;5;28;01melif\u001b[39;00m \u001b[38;5;28mhasattr\u001b[39m(a, \u001b[38;5;124m'\u001b[39m\u001b[38;5;124m__int__\u001b[39m\u001b[38;5;124m'\u001b[39m):\n\u001b[1;32m    451\u001b[0m     \u001b[38;5;28;01mreturn\u001b[39;00m sympify(\u001b[38;5;28mint\u001b[39m(a))\n",
      "    \u001b[0;31m[... skipping similar frames: sympify at line 449 (2892 times)]\u001b[0m\n",
      "File \u001b[0;32m~/Desktop/DCD_RL/.venv/lib/python3.12/site-packages/sympy/core/sympify.py:449\u001b[0m, in \u001b[0;36msympify\u001b[0;34m(a, locals, convert_xor, strict, rational, evaluate)\u001b[0m\n\u001b[1;32m    445\u001b[0m                 \u001b[38;5;28;01mpass\u001b[39;00m\n\u001b[1;32m    446\u001b[0m \u001b[38;5;28;01melif\u001b[39;00m \u001b[38;5;28mhasattr\u001b[39m(a, \u001b[38;5;124m'\u001b[39m\u001b[38;5;124m__float__\u001b[39m\u001b[38;5;124m'\u001b[39m):\n\u001b[1;32m    447\u001b[0m     \u001b[38;5;66;03m# float and int can coerce size-one numpy arrays to their lone\u001b[39;00m\n\u001b[1;32m    448\u001b[0m     \u001b[38;5;66;03m# element.  See issue https://github.com/numpy/numpy/issues/10404.\u001b[39;00m\n\u001b[0;32m--> 449\u001b[0m     \u001b[38;5;28;01mreturn\u001b[39;00m \u001b[43msympify\u001b[49m\u001b[43m(\u001b[49m\u001b[38;5;28;43mfloat\u001b[39;49m\u001b[43m(\u001b[49m\u001b[43ma\u001b[49m\u001b[43m)\u001b[49m\u001b[43m)\u001b[49m\n\u001b[1;32m    450\u001b[0m \u001b[38;5;28;01melif\u001b[39;00m \u001b[38;5;28mhasattr\u001b[39m(a, \u001b[38;5;124m'\u001b[39m\u001b[38;5;124m__int__\u001b[39m\u001b[38;5;124m'\u001b[39m):\n\u001b[1;32m    451\u001b[0m     \u001b[38;5;28;01mreturn\u001b[39;00m sympify(\u001b[38;5;28mint\u001b[39m(a))\n",
      "File \u001b[0;32m~/Desktop/DCD_RL/.venv/lib/python3.12/site-packages/sympy/core/sympify.py:408\u001b[0m, in \u001b[0;36msympify\u001b[0;34m(a, locals, convert_xor, strict, rational, evaluate)\u001b[0m\n\u001b[1;32m    405\u001b[0m     evaluate \u001b[38;5;241m=\u001b[39m global_parameters\u001b[38;5;241m.\u001b[39mevaluate\n\u001b[1;32m    407\u001b[0m \u001b[38;5;66;03m# Support for basic numpy datatypes\u001b[39;00m\n\u001b[0;32m--> 408\u001b[0m \u001b[38;5;28;01mif\u001b[39;00m \u001b[43m_is_numpy_instance\u001b[49m\u001b[43m(\u001b[49m\u001b[43ma\u001b[49m\u001b[43m)\u001b[49m:\n\u001b[1;32m    409\u001b[0m     \u001b[38;5;28;01mimport\u001b[39;00m \u001b[38;5;21;01mnumpy\u001b[39;00m \u001b[38;5;28;01mas\u001b[39;00m \u001b[38;5;21;01mnp\u001b[39;00m\n\u001b[1;32m    410\u001b[0m     \u001b[38;5;28;01mif\u001b[39;00m np\u001b[38;5;241m.\u001b[39misscalar(a):\n",
      "File \u001b[0;32m~/Desktop/DCD_RL/.venv/lib/python3.12/site-packages/sympy/core/sympify.py:74\u001b[0m, in \u001b[0;36m_is_numpy_instance\u001b[0;34m(a)\u001b[0m\n\u001b[1;32m     69\u001b[0m \u001b[38;5;250m\u001b[39m\u001b[38;5;124;03m\"\"\"\u001b[39;00m\n\u001b[1;32m     70\u001b[0m \u001b[38;5;124;03mChecks if an object is an instance of a type from the numpy module.\u001b[39;00m\n\u001b[1;32m     71\u001b[0m \u001b[38;5;124;03m\"\"\"\u001b[39;00m\n\u001b[1;32m     72\u001b[0m \u001b[38;5;66;03m# This check avoids unnecessarily importing NumPy.  We check the whole\u001b[39;00m\n\u001b[1;32m     73\u001b[0m \u001b[38;5;66;03m# __mro__ in case any base type is a numpy type.\u001b[39;00m\n\u001b[0;32m---> 74\u001b[0m \u001b[38;5;28;01mreturn\u001b[39;00m \u001b[38;5;28many\u001b[39m\u001b[43m(\u001b[49m\u001b[43mtype_\u001b[49m\u001b[38;5;241;43m.\u001b[39;49m\u001b[38;5;18;43m__module__\u001b[39;49m\u001b[43m \u001b[49m\u001b[38;5;241;43m==\u001b[39;49m\u001b[43m \u001b[49m\u001b[38;5;124;43m'\u001b[39;49m\u001b[38;5;124;43mnumpy\u001b[39;49m\u001b[38;5;124;43m'\u001b[39;49m\n\u001b[1;32m     75\u001b[0m \u001b[43m           \u001b[49m\u001b[38;5;28;43;01mfor\u001b[39;49;00m\u001b[43m \u001b[49m\u001b[43mtype_\u001b[49m\u001b[43m \u001b[49m\u001b[38;5;129;43;01min\u001b[39;49;00m\u001b[43m \u001b[49m\u001b[38;5;28;43mtype\u001b[39;49m\u001b[43m(\u001b[49m\u001b[43ma\u001b[49m\u001b[43m)\u001b[49m\u001b[38;5;241;43m.\u001b[39;49m\u001b[38;5;18;43m__mro__\u001b[39;49m\u001b[43m)\u001b[49m\n",
      "\u001b[0;31mRecursionError\u001b[0m: maximum recursion depth exceeded"
     ]
    }
   ],
   "source": [
    "import numpy as np\n",
    "from scipy.optimize import fsolve\n",
    "import sympy as sp\n",
    "\n",
    "\n",
    "mass, height, setpoint_baseline, sd_baseline = 80, 1.68, 1.0292359, 0.4495318\n",
    "#Constants\n",
    "scaling = 0.971\n",
    "L = 1.09\n",
    "g = 9.81\n",
    "m = mass #change\n",
    "H = height #change\n",
    "I = 0.35*m*H**2     # Distributed Inertia\n",
    "b = 0\n",
    "maxAngle = 65\n",
    "constant = scaling * m * g * L / I\n",
    "\n",
    "## baselines\n",
    "setpoint_baseline = setpoint_baseline #change\n",
    "sd_baseline = sd_baseline #change\n",
    "cos_start = np.deg2rad(setpoint_baseline + 1 * sd_baseline) \n",
    "cos_acc0 = np.deg2rad(setpoint_baseline + 3 * sd_baseline) \n",
    "\n",
    "# Define the function for dydt\n",
    "def dydt_function(x, alpha, sigma, B):\n",
    "    conditions = [(x > (B - sigma)) & (x < (B + sigma)),\n",
    "                  (x <= (B - sigma)) | (x >= (B + sigma))]\n",
    "    functions = [lambda X: (1 + np.cos(2 * np.pi * (X - B) / (2 * sigma))), lambda X: 0]\n",
    "    dydt = scaling * m * g * L / I * (x - np.sign(B) * alpha * np.piecewise(x, conditions, functions))\n",
    "    return dydt\n",
    "\n",
    "# get sigma and B\n",
    "sigma = sp.Symbol('sigma')\n",
    "# X = cos_acc0\n",
    "B = sigma + cos_start\n",
    "delta = -0.05 / constant\n",
    "alpha = (B - delta) / 2\n",
    "equation = constant * (cos_acc0 - alpha * (1 + sp.cos((2 * sp.pi * (cos_acc0 - B)) / (2 * sigma)))) \n",
    "solutions = sp.solve(equation, sigma)\n",
    "sigma_out = float(solutions[1]) ## stability width\n",
    "# Print the results\n",
    "print(f\"strength: {((sigma_out + cos_start) - delta) / 2}\")\n",
    "print(f\"width: {np.rad2deg(sigma_out)}\")\n",
    "print(f\"location: {np.rad2deg(sigma_out + cos_start)}\")\n",
    "\n",
    "# # Compute delta from Equation 3\n",
    "# delta = -0.05 / constant\n",
    "\n",
    "# # Define the function to solve for B\n",
    "# def f_B(x, B):\n",
    "#     alpha = (B - delta) / 2  # From rearranged Equation 3\n",
    "#     sigma = B - cos_start    # From Equation 1\n",
    "#     # Avoid division by zero or negative sigma\n",
    "#     if sigma <= 0:\n",
    "#         return np.inf\n",
    "#     conditions = [(x > (B - sigma)) & (x < (B + sigma)),\n",
    "#                   (x <= (B - sigma)) | (x >= (B + sigma))]\n",
    "#     functions = [lambda X: (1 + np.cos(2 * np.pi * (X - B) / (2 * sigma))), lambda X: 0]\n",
    "#     dydt = scaling * m * g * L / I * (x - np.sign(B) * alpha * np.piecewise(x, conditions, functions))\n",
    "#     return dydt\n",
    "    # argument = (cos_acc0 - B) * np.pi / sigma\n",
    "    # # Ensure the argument is within the valid range for cosine\n",
    "    # cos_term = np.cos(argument)\n",
    "    # # Equation 2 rearranged\n",
    "    # lhs = cos_acc0\n",
    "    # rhs = alpha * (1 + cos_term)\n",
    "    # return lhs - rhs\n",
    "\n",
    "# Initial guess for B (must be greater than cos_start to ensure positive sigma)\n",
    "initial_guess = cos_start\n",
    "\n",
    "# Solve for B using fsolve\n",
    "B_solution = fsolve(f_B, initial_guess)\n",
    "print(B_solution)\n",
    "# Extract B and compute alpha and sigma\n",
    "B = B_solution[0]\n",
    "alpha = (B - delta) / 2\n",
    "sigma = B - cos_start\n",
    "\n",
    "# Print the results\n",
    "print(f\"Alpha: {alpha}\")\n",
    "print(f\"Sigma: {sigma}\")\n",
    "print(f\"B: {B}\")\n",
    "\n",
    "# Print the results\n",
    "print(f\"strength: {alpha}\")\n",
    "print(f\"width: {np.rad2deg(sigma)}\")\n",
    "print(f\"location: {np.rad2deg(B)}\")"
   ]
  },
  {
   "cell_type": "code",
   "execution_count": 11,
   "metadata": {},
   "outputs": [],
   "source": [
    "#function to get max velocity for a specific alpha\n",
    "def get_max_velocity(alpha, cos_start, cos_acc0, constant):\n",
    "    # get sigma and B\n",
    "    sigma = sp.Symbol('sigma')\n",
    "    # X = cos_acc0\n",
    "    B = sigma + cos_start\n",
    "    print(alpha, cos_start, cos_acc0, constant)\n",
    "    equation = constant * (cos_acc0 - alpha * (1 + sp.cos((2 * sp.pi * (cos_acc0 - B)) / (2 * sigma)))) \n",
    "    solutions = sp.solve(equation, sigma)\n",
    "    print(solutions)\n",
    "    try: \n",
    "        sigma = float(solutions[1]) ## stability width\n",
    "    except TypeError:\n",
    "        return None,None,None\n",
    "    B = sigma + cos_start\n",
    "    # print(B, sigma)\n",
    "    max_velocity = None\n",
    "    for i in np.arange(cos_start, cos_acc0, 0.0001):\n",
    "        # print(i)\n",
    "        X = [i,0]\n",
    "        t = np.linspace(0, 5, 100000)\n",
    "        sol = odeint(cosine_dynamics, X, t, args=(constant, alpha, sigma, B)) #integrates dxdt and dydt to get theta (angle) and omega (velocity)\n",
    "        theta = np.rad2deg(sol[:,0])\n",
    "        omega = np.rad2deg(sol[:,1])\n",
    "        # print(theta)\n",
    "        # print(np.rad2deg(cos_acc0))\n",
    "        if (any(x < 0 for x in omega)):\n",
    "            max_velocity = max(omega)\n",
    "            break\n",
    "    if isinstance(max_velocity, (int, float)):\n",
    "        return max_velocity, B, sigma\n",
    "    else: return None,None,None"
   ]
  },
  {
   "cell_type": "code",
   "execution_count": 4,
   "metadata": {},
   "outputs": [],
   "source": [
    "def get_parameters(mass, height, setpoint_baseline, sd_baseline, maxV):\n",
    "    #Constants\n",
    "    scaling = 0.971\n",
    "    L = 1.09\n",
    "    g = 9.81\n",
    "    m = mass #change\n",
    "    H = height #change\n",
    "    I = 0.35*m*H**2     # Distributed Inertia\n",
    "    b = 0\n",
    "    maxAngle = 65\n",
    "    constant = scaling * m * g * L / I\n",
    "\n",
    "    ## baselines\n",
    "    setpoint_baseline = setpoint_baseline #change\n",
    "    sd_baseline = sd_baseline #change\n",
    "    cos_start = np.deg2rad(setpoint_baseline + 1 * sd_baseline) \n",
    "    cos_acc0 = np.deg2rad(setpoint_baseline + 3 * sd_baseline) \n",
    "    # print(cos_start, cos_acc0, constant)\n",
    "\n",
    "    alpha_out = 0\n",
    "    velocity_out = 0\n",
    "    for alpha in np.arange(0.01, 0.04, 0.0001):\n",
    "        max_velocity, B, sigma = get_max_velocity(alpha, cos_start, cos_acc0, constant)\n",
    "        if isinstance(max_velocity, (int, float)):\n",
    "            if max_velocity < maxV:\n",
    "                alpha_out = alpha\n",
    "                B_out = B\n",
    "                sigma_out = sigma\n",
    "                velocity_out = max_velocity\n",
    "            else:\n",
    "                print(\"alpha: \", alpha_out)\n",
    "                print(\"peak: \", np.rad2deg(B_out))\n",
    "                print(\"width: \", np.rad2deg(sigma_out))\n",
    "                print(velocity_out)\n",
    "                break\n",
    "        else:\n",
    "            continue\n",
    "\n"
   ]
  },
  {
   "cell_type": "code",
   "execution_count": null,
   "metadata": {},
   "outputs": [],
   "source": [
    "# get_parameters(weight (kg), height (m), setpoint, sd everything, max V)"
   ]
  },
  {
   "cell_type": "code",
   "execution_count": 13,
   "metadata": {},
   "outputs": [
    {
     "name": "stdout",
     "output_type": "stream",
     "text": [
      "0.01 0.026697885537051935 0.05133809303433014 11.303596903782088\n",
      "[0.0170436226789449 - 0.01137863459701*I, 0.0170436226789449 + 0.01137863459701*I]\n",
      "0.0101 0.026697885537051935 0.05133809303433014 11.303596903782088\n",
      "[0.0171075823787027 - 0.0113518723012512*I, 0.0171075823787027 + 0.0113518723012512*I]\n",
      "0.010199999999999999 0.026697885537051935 0.05133809303433014 11.303596903782088\n",
      "[0.0171712020327227 - 0.0113248312047197*I, 0.0171712020327227 + 0.0113248312047197*I]\n",
      "0.010299999999999998 0.026697885537051935 0.05133809303433014 11.303596903782088\n",
      "[0.0172344868761308 - 0.0112975127728831*I, 0.0172344868761308 + 0.0112975127728831*I]\n",
      "0.010399999999999998 0.026697885537051935 0.05133809303433014 11.303596903782088\n",
      "[0.0172974420126204 - 0.0112699183751764*I, 0.0172974420126204 + 0.0112699183751764*I]\n",
      "0.010499999999999997 0.026697885537051935 0.05133809303433014 11.303596903782088\n",
      "[0.0173600724189952 - 0.0112420492873435*I, 0.0173600724189952 + 0.0112420492873435*I]\n",
      "0.010599999999999997 0.026697885537051935 0.05133809303433014 11.303596903782088\n",
      "[0.0174223829495133 - 0.0112139066936352*I, 0.0174223829495133 + 0.0112139066936352*I]\n",
      "0.010699999999999996 0.026697885537051935 0.05133809303433014 11.303596903782088\n",
      "[0.0174843783400428 - 0.0111854916888715*I, 0.0174843783400428 + 0.0111854916888715*I]\n",
      "0.010799999999999995 0.026697885537051935 0.05133809303433014 11.303596903782088\n",
      "[0.0175460632120384 - 0.0111568052803721*I, 0.0175460632120384 + 0.0111568052803721*I]\n",
      "0.010899999999999995 0.026697885537051935 0.05133809303433014 11.303596903782088\n",
      "[0.0176074420763493 - 0.0111278483897633*I, 0.0176074420763493 + 0.0111278483897633*I]\n",
      "0.010999999999999994 0.026697885537051935 0.05133809303433014 11.303596903782088\n",
      "[0.0176685193368655 - 0.011098621854665*I, 0.0176685193368655 + 0.011098621854665*I]\n",
      "0.011099999999999994 0.026697885537051935 0.05133809303433014 11.303596903782088\n",
      "[0.0177292992940128 - 0.0110691264302627*I, 0.0177292992940128 + 0.0110691264302627*I]\n",
      "0.011199999999999993 0.026697885537051935 0.05133809303433014 11.303596903782088\n",
      "[0.0177897861481016 - 0.0110393627907702*I, 0.0177897861481016 + 0.0110393627907702*I]\n",
      "0.011299999999999992 0.026697885537051935 0.05133809303433014 11.303596903782088\n",
      "[0.0178499840025393 - 0.0110093315307859*I, 0.0178499840025393 + 0.0110093315307859*I]\n",
      "0.011399999999999992 0.026697885537051935 0.05133809303433014 11.303596903782088\n",
      "[0.0179098968669113 - 0.0109790331665474*I, 0.0179098968669113 + 0.0109790331665474*I]\n",
      "0.011499999999999991 0.026697885537051935 0.05133809303433014 11.303596903782088\n",
      "[0.0179695286599381 - 0.0109484681370877*I, 0.0179695286599381 + 0.0109484681370877*I]\n",
      "0.01159999999999999 0.026697885537051935 0.05133809303433014 11.303596903782088\n",
      "[0.018028883212314 - 0.010917636805296*I, 0.018028883212314 + 0.010917636805296*I]\n",
      "0.01169999999999999 0.026697885537051935 0.05133809303433014 11.303596903782088\n",
      "[0.0180879642694332 - 0.0108865394588867*I, 0.0180879642694332 + 0.0108865394588867*I]\n",
      "0.01179999999999999 0.026697885537051935 0.05133809303433014 11.303596903782088\n",
      "[0.0181467754940087 - 0.0108551763112785*I, 0.0181467754940087 + 0.0108551763112785*I]\n",
      "0.011899999999999989 0.026697885537051935 0.05133809303433014 11.303596903782088\n",
      "[0.0182053204685895 - 0.0108235475023879*I, 0.0182053204685895 + 0.0108235475023879*I]\n",
      "0.011999999999999988 0.026697885537051935 0.05133809303433014 11.303596903782088\n",
      "[0.0182636026979798 - 0.0107916530993364*I, 0.0182636026979798 + 0.0107916530993364*I]\n",
      "0.012099999999999988 0.026697885537051935 0.05133809303433014 11.303596903782088\n",
      "[0.0183216256115668 - 0.0107594930970763*I, 0.0183216256115668 + 0.0107594930970763*I]\n",
      "0.012199999999999987 0.026697885537051935 0.05133809303433014 11.303596903782088\n",
      "[0.0183793925655583 - 0.0107270674189356*I, 0.0183793925655583 + 0.0107270674189356*I]\n",
      "0.012299999999999986 0.026697885537051935 0.05133809303433014 11.303596903782088\n",
      "[0.0184369068451378 - 0.0106943759170835*I, 0.0184369068451378 + 0.0106943759170835*I]\n",
      "0.012399999999999986 0.026697885537051935 0.05133809303433014 11.303596903782088\n",
      "[0.0184941716665372 - 0.0106614183729189*I, 0.0184941716665372 + 0.0106614183729189*I]\n",
      "0.012499999999999985 0.026697885537051935 0.05133809303433014 11.303596903782088\n",
      "[0.0185511901790347 - 0.0106281944973815*I, 0.0185511901790347 + 0.0106281944973815*I]\n",
      "0.012599999999999984 0.026697885537051935 0.05133809303433014 11.303596903782088\n",
      "[0.0186079654668771 - 0.0105947039311889*I, 0.0186079654668771 + 0.0105947039311889*I]\n",
      "0.012699999999999984 0.026697885537051935 0.05133809303433014 11.303596903782088\n",
      "[0.0186645005511337 - 0.0105609462449975*I, 0.0186645005511337 + 0.0105609462449975*I]\n",
      "0.012799999999999983 0.026697885537051935 0.05133809303433014 11.303596903782088\n",
      "[0.0187207983914823 - 0.0105269209394917*I, 0.0187207983914823 + 0.0105269209394917*I]\n",
      "0.012899999999999983 0.026697885537051935 0.05133809303433014 11.303596903782088\n",
      "[0.0187768618879307 - 0.0104926274453982*I, 0.0187768618879307 + 0.0104926274453982*I]\n",
      "0.012999999999999982 0.026697885537051935 0.05133809303433014 11.303596903782088\n",
      "[0.0188326938824778 - 0.0104580651234278*I, 0.0188326938824778 + 0.0104580651234278*I]\n",
      "0.013099999999999981 0.026697885537051935 0.05133809303433014 11.303596903782088\n",
      "[0.0188882971607155 - 0.0104232332641454*I, 0.0188882971607155 + 0.0104232332641454*I]\n",
      "0.01319999999999998 0.026697885537051935 0.05133809303433014 11.303596903782088\n",
      "[0.018943674453374 - 0.0103881310877659*I, 0.018943674453374 + 0.0103881310877659*I]\n",
      "0.01329999999999998 0.026697885537051935 0.05133809303433014 11.303596903782088\n",
      "[0.0189988284378139 - 0.0103527577438786*I, 0.0189988284378139 + 0.0103527577438786*I]\n",
      "0.01339999999999998 0.026697885537051935 0.05133809303433014 11.303596903782088\n",
      "[0.0190537617394668 - 0.0103171123110972*I, 0.0190537617394668 + 0.0103171123110972*I]\n",
      "0.013499999999999979 0.026697885537051935 0.05133809303433014 11.303596903782088\n",
      "[0.0191084769332255 - 0.0102811937966376*I, 0.0191084769332255 + 0.0102811937966376*I]\n",
      "0.013599999999999978 0.026697885537051935 0.05133809303433014 11.303596903782088\n",
      "[0.0191629765447884 - 0.0102450011358199*I, 0.0191629765447884 + 0.0102450011358199*I]\n",
      "0.013699999999999978 0.026697885537051935 0.05133809303433014 11.303596903782088\n",
      "[0.0192172630519571 - 0.0102085331914965*I, 0.0192172630519571 + 0.0102085331914965*I]\n",
      "0.013799999999999977 0.026697885537051935 0.05133809303433014 11.303596903782088\n",
      "[0.0192713388858914 - 0.0101717887534032*I, 0.0192713388858914 + 0.0101717887534032*I]\n",
      "0.013899999999999977 0.026697885537051935 0.05133809303433014 11.303596903782088\n",
      "[0.0193252064323217 - 0.0101347665374341*I, 0.0193252064323217 + 0.0101347665374341*I]\n",
      "0.013999999999999976 0.026697885537051935 0.05133809303433014 11.303596903782088\n",
      "[0.0193788680327223 - 0.0100974651848364*I, 0.0193788680327223 + 0.0100974651848364*I]\n",
      "0.014099999999999975 0.026697885537051935 0.05133809303433014 11.303596903782088\n",
      "[0.0194323259854452 - 0.0100598832613262*I, 0.0194323259854452 + 0.0100598832613262*I]\n",
      "0.014199999999999975 0.026697885537051935 0.05133809303433014 11.303596903782088\n",
      "[0.0194855825468179 - 0.010022019256122*I, 0.0194855825468179 + 0.010022019256122*I]\n",
      "0.014299999999999974 0.026697885537051935 0.05133809303433014 11.303596903782088\n",
      "[0.0195386399322048 - 0.00998387158089408*I, 0.0195386399322048 + 0.00998387158089408*I]\n",
      "0.014399999999999974 0.026697885537051935 0.05133809303433014 11.303596903782088\n",
      "[0.0195915003170348 - 0.00994543856862809*I, 0.0195915003170348 + 0.00994543856862809*I]\n",
      "0.014499999999999973 0.026697885537051935 0.05133809303433014 11.303596903782088\n",
      "[0.0196441658377967 - 0.00990671847240022*I, 0.0196441658377967 + 0.00990671847240022*I]\n",
      "0.014599999999999972 0.026697885537051935 0.05133809303433014 11.303596903782088\n",
      "[0.0196966385930023 - 0.00986770946406139*I, 0.0196966385930023 + 0.00986770946406139*I]\n",
      "0.014699999999999972 0.026697885537051935 0.05133809303433014 11.303596903782088\n",
      "[0.0197489206441194 - 0.00982840963282753*I, 0.0197489206441194 + 0.00982840963282753*I]\n",
      "0.014799999999999971 0.026697885537051935 0.05133809303433014 11.303596903782088\n",
      "[0.019801014016476 - 0.00978881698377305*I, 0.019801014016476 + 0.00978881698377305*I]\n",
      "0.01489999999999997 0.026697885537051935 0.05133809303433014 11.303596903782088\n",
      "[0.0198529207001356 - 0.00974892943622419*I, 0.0198529207001356 + 0.00974892943622419*I]\n",
      "0.01499999999999997 0.026697885537051935 0.05133809303433014 11.303596903782088\n",
      "[0.0199046426507466 - 0.00970874482204825*I, 0.0199046426507466 + 0.00970874482204825*I]\n",
      "0.01509999999999997 0.026697885537051935 0.05133809303433014 11.303596903782088\n",
      "[0.0199561817903652 - 0.0096682608838353*I, 0.0199561817903652 + 0.0096682608838353*I]\n",
      "0.015199999999999969 0.026697885537051935 0.05133809303433014 11.303596903782088\n",
      "[0.0200075400082527 - 0.00962747527296798*I, 0.0200075400082527 + 0.00962747527296798*I]\n",
      "0.015299999999999968 0.026697885537051935 0.05133809303433014 11.303596903782088\n",
      "[0.0200587191616497 - 0.00958638554757457*I, 0.0200587191616497 + 0.00958638554757457*I]\n",
      "0.015399999999999968 0.026697885537051935 0.05133809303433014 11.303596903782088\n",
      "[0.0201097210765263 - 0.00954498917036109*I, 0.0201097210765263 + 0.00954498917036109*I]\n",
      "0.015499999999999967 0.026697885537051935 0.05133809303433014 11.303596903782088\n",
      "[0.0201605475483106 - 0.0095032835063163*I, 0.0201605475483106 + 0.0095032835063163*I]\n",
      "0.015599999999999966 0.026697885537051935 0.05133809303433014 11.303596903782088\n",
      "[0.0202112003425949 - 0.00946126582028486*I, 0.0202112003425949 + 0.00946126582028486*I]\n",
      "0.015699999999999964 0.026697885537051935 0.05133809303433014 11.303596903782088\n",
      "[0.0202616811958214 - 0.00941893327440193*I, 0.0202616811958214 + 0.00941893327440193*I]\n",
      "0.015799999999999967 0.026697885537051935 0.05133809303433014 11.303596903782088\n",
      "[0.0203119918159484 - 0.00937628292538307*I, 0.0203119918159484 + 0.00937628292538307*I]\n",
      "0.015899999999999963 0.026697885537051935 0.05133809303433014 11.303596903782088\n",
      "[0.0203621338830959 - 0.00933331172166238*I, 0.0203621338830959 + 0.00933331172166238*I]\n",
      "0.015999999999999966 0.026697885537051935 0.05133809303433014 11.303596903782088\n",
      "[0.0204121090501738 - 0.00929001650037102*I, 0.0204121090501738 + 0.00929001650037102*I]\n",
      "0.01609999999999996 0.026697885537051935 0.05133809303433014 11.303596903782088\n",
      "[0.0204619189434915 - 0.00924639398414874*I, 0.0204619189434915 + 0.00924639398414874*I]\n",
      "0.016199999999999964 0.026697885537051935 0.05133809303433014 11.303596903782088\n",
      "[0.02051156516335 - 0.00920244077777919*I, 0.02051156516335 + 0.00920244077777919*I]\n",
      "0.01629999999999996 0.026697885537051935 0.05133809303433014 11.303596903782088\n",
      "[0.0205610492846176 - 0.00915815336463999*I, 0.0205610492846176 + 0.00915815336463999*I]\n",
      "0.016399999999999963 0.026697885537051935 0.05133809303433014 11.303596903782088\n",
      "[0.0206103728572889 - 0.00911352810295761*I, 0.0206103728572889 + 0.00911352810295761*I]\n",
      "0.01649999999999996 0.026697885537051935 0.05133809303433014 11.303596903782088\n",
      "[0.0206595374070286 - 0.00906856122185604*I, 0.0206595374070286 + 0.00906856122185604*I]\n",
      "0.016599999999999962 0.026697885537051935 0.05133809303433014 11.303596903782088\n",
      "[0.0207085444357001 - 0.00902324881718833*I, 0.0207085444357001 + 0.00902324881718833*I]\n",
      "0.016699999999999958 0.026697885537051935 0.05133809303433014 11.303596903782088\n",
      "[0.0207573954218791 - 0.00897758684713801*I, 0.0207573954218791 + 0.00897758684713801*I]\n",
      "0.01679999999999996 0.026697885537051935 0.05133809303433014 11.303596903782088\n",
      "[0.0208060918213537 - 0.00893157112757753*I, 0.0208060918213537 + 0.00893157112757753*I]\n",
      "0.016899999999999957 0.026697885537051935 0.05133809303433014 11.303596903782088\n",
      "[0.02085463506761 - 0.00888519732716929*I, 0.02085463506761 + 0.00888519732716929*I]\n",
      "0.01699999999999996 0.026697885537051935 0.05133809303433014 11.303596903782088\n",
      "[0.0209030265723055 - 0.00883846096219347*I, 0.0209030265723055 + 0.00883846096219347*I]\n",
      "0.017099999999999956 0.026697885537051935 0.05133809303433014 11.303596903782088\n",
      "[0.0209512677257289 - 0.00879135739108688*I, 0.0209512677257289 + 0.00879135739108688*I]\n",
      "0.01719999999999996 0.026697885537051935 0.05133809303433014 11.303596903782088\n",
      "[0.0209993598972482 - 0.00874388180867411*I, 0.0209993598972482 + 0.00874388180867411*I]\n",
      "0.017299999999999954 0.026697885537051935 0.05133809303433014 11.303596903782088\n",
      "[0.0210473044357461 - 0.00869602924007221*I, 0.0210473044357461 + 0.00869602924007221*I]\n",
      "0.017399999999999957 0.026697885537051935 0.05133809303433014 11.303596903782088\n",
      "[0.0210951026700444 - 0.00864779453424788*I, 0.0210951026700444 + 0.00864779453424788*I]\n",
      "0.017499999999999953 0.026697885537051935 0.05133809303433014 11.303596903782088\n",
      "[0.0211427559093173 - 0.00859917235720461*I, 0.0211427559093173 + 0.00859917235720461*I]\n",
      "0.017599999999999956 0.026697885537051935 0.05133809303433014 11.303596903782088\n",
      "[0.0211902654434934 - 0.00855015718477564*I, 0.0211902654434934 + 0.00855015718477564*I]\n",
      "0.017699999999999952 0.026697885537051935 0.05133809303433014 11.303596903782088\n",
      "[0.0212376325436476 - 0.00850074329499637*I, 0.0212376325436476 + 0.00850074329499637*I]\n",
      "0.017799999999999955 0.026697885537051935 0.05133809303433014 11.303596903782088\n",
      "[0.0212848584623825 - 0.00845092476002758*I, 0.0212848584623825 + 0.00845092476002758*I]\n",
      "0.01789999999999995 0.026697885537051935 0.05133809303433014 11.303596903782088\n",
      "[0.0213319444342002 - 0.00840069543759905*I, 0.0213319444342002 + 0.00840069543759905*I]\n",
      "0.017999999999999954 0.026697885537051935 0.05133809303433014 11.303596903782088\n",
      "[0.0213788916758646 - 0.00835004896193934*I, 0.0213788916758646 + 0.00835004896193934*I]\n",
      "0.01809999999999995 0.026697885537051935 0.05133809303433014 11.303596903782088\n",
      "[0.0214257013867546 - 0.00829897873415622*I, 0.0214257013867546 + 0.00829897873415622*I]\n",
      "0.018199999999999952 0.026697885537051935 0.05133809303433014 11.303596903782088\n",
      "[0.0214723747492075 - 0.00824747791202777*I, 0.0214723747492075 + 0.00824747791202777*I]\n",
      "0.018299999999999948 0.026697885537051935 0.05133809303433014 11.303596903782088\n",
      "[0.021518912928855 - 0.00819553939916138*I, 0.021518912928855 + 0.00819553939916138*I]\n",
      "0.01839999999999995 0.026697885537051935 0.05133809303433014 11.303596903782088\n",
      "[0.0215653170749498 - 0.00814315583347374*I, 0.0215653170749498 + 0.00814315583347374*I]\n",
      "0.018499999999999947 0.026697885537051935 0.05133809303433014 11.303596903782088\n",
      "[0.0216115883206846 - 0.00809031957494085*I, 0.0216115883206846 + 0.00809031957494085*I]\n",
      "0.01859999999999995 0.026697885537051935 0.05133809303433014 11.303596903782088\n",
      "[0.0216577277835028 - 0.00803702269256263*I, 0.0216577277835028 + 0.00803702269256263*I]\n",
      "0.018699999999999946 0.026697885537051935 0.05133809303433014 11.303596903782088\n",
      "[0.0217037365654019 - 0.00798325695048107*I, 0.0217037365654019 + 0.00798325695048107*I]\n",
      "0.01879999999999995 0.026697885537051935 0.05133809303433014 11.303596903782088\n",
      "[0.021749615753229 - 0.00792901379318554*I, 0.021749615753229 + 0.00792901379318554*I]\n",
      "0.018899999999999945 0.026697885537051935 0.05133809303433014 11.303596903782088\n",
      "[0.0217953664189698 - 0.0078742843297324*I, 0.0217953664189698 + 0.0078742843297324*I]\n",
      "0.018999999999999947 0.026697885537051935 0.05133809303433014 11.303596903782088\n",
      "[0.0218409896200298 - 0.00781905931689895*I, 0.0218409896200298 + 0.00781905931689895*I]\n",
      "0.019099999999999943 0.026697885537051935 0.05133809303433014 11.303596903782088\n",
      "[0.0218864863995093 - 0.00776332914118431*I, 0.0218864863995093 + 0.00776332914118431*I]\n",
      "0.019199999999999946 0.026697885537051935 0.05133809303433014 11.303596903782088\n",
      "[0.0219318577864713 - 0.00770708379956053*I, 0.0219318577864713 + 0.00770708379956053*I]\n",
      "0.019299999999999942 0.026697885537051935 0.05133809303433014 11.303596903782088\n",
      "[0.0219771047962035 - 0.0076503128788679*I, 0.0219771047962035 + 0.0076503128788679*I]\n",
      "0.019399999999999945 0.026697885537051935 0.05133809303433014 11.303596903782088\n",
      "[0.0220222284304736 - 0.00759300553373749*I, 0.0220222284304736 + 0.00759300553373749*I]\n",
      "0.01949999999999994 0.026697885537051935 0.05133809303433014 11.303596903782088\n",
      "[0.0220672296777793 - 0.00753515046291144*I, 0.0220672296777793 + 0.00753515046291144*I]\n",
      "0.019599999999999944 0.026697885537051935 0.05133809303433014 11.303596903782088\n",
      "[0.0221121095135911 - 0.00747673588381848*I, 0.0221121095135911 + 0.00747673588381848*I]\n",
      "0.01969999999999994 0.026697885537051935 0.05133809303433014 11.303596903782088\n",
      "[0.0221568689005909 - 0.00741774950524608*I, 0.0221568689005909 + 0.00741774950524608*I]\n",
      "0.019799999999999943 0.026697885537051935 0.05133809303433014 11.303596903782088\n",
      "[0.0222015087889042 - 0.00735817849793382*I, 0.0222015087889042 + 0.00735817849793382*I]\n",
      "0.01989999999999994 0.026697885537051935 0.05133809303433014 11.303596903782088\n",
      "[0.0222460301163268 - 0.00729800946289277*I, 0.0222460301163268 + 0.00729800946289277*I]\n",
      "0.01999999999999994 0.026697885537051935 0.05133809303433014 11.303596903782088\n",
      "[0.0222904338085473 - 0.00723722839723348*I, 0.0222904338085473 + 0.00723722839723348*I]\n",
      "0.020099999999999937 0.026697885537051935 0.05133809303433014 11.303596903782088\n",
      "[0.0223347207793628 - 0.00717582065726081*I, 0.0223347207793628 + 0.00717582065726081*I]\n",
      "0.02019999999999994 0.026697885537051935 0.05133809303433014 11.303596903782088\n",
      "[0.0223788919308913 - 0.00711377091856448*I, 0.0223788919308913 + 0.00711377091856448*I]\n",
      "0.020299999999999936 0.026697885537051935 0.05133809303433014 11.303596903782088\n",
      "[0.0224229481537788 - 0.00705106313280268*I, 0.0224229481537788 + 0.00705106313280268*I]\n",
      "0.02039999999999994 0.026697885537051935 0.05133809303433014 11.303596903782088\n",
      "[0.0224668903274006 - 0.00698768048083882*I, 0.0224668903274006 + 0.00698768048083882*I]\n",
      "0.020499999999999935 0.026697885537051935 0.05133809303433014 11.303596903782088\n",
      "[0.0225107193200603 - 0.0069236053218493*I, 0.0225107193200603 + 0.0069236053218493*I]\n",
      "0.020599999999999938 0.026697885537051935 0.05133809303433014 11.303596903782088\n",
      "[0.0225544359891818 - 0.00685881913797262*I, 0.0225544359891818 + 0.00685881913797262*I]\n",
      "0.020699999999999934 0.026697885537051935 0.05133809303433014 11.303596903782088\n",
      "[0.0225980411814994 - 0.00679330247401366*I, 0.0225980411814994 + 0.00679330247401366*I]\n",
      "0.020799999999999937 0.026697885537051935 0.05133809303433014 11.303596903782088\n",
      "[0.0226415357332419 - 0.00672703487165411*I, 0.0226415357332419 + 0.00672703487165411*I]\n",
      "0.020899999999999933 0.026697885537051935 0.05133809303433014 11.303596903782088\n",
      "[0.0226849204703133 - 0.00665999479754551*I, 0.0226849204703133 + 0.00665999479754551*I]\n",
      "0.020999999999999935 0.026697885537051935 0.05133809303433014 11.303596903782088\n",
      "[0.0227281962084703 - 0.00659215956457645*I, 0.0227281962084703 + 0.00659215956457645*I]\n",
      "0.02109999999999993 0.026697885537051935 0.05133809303433014 11.303596903782088\n",
      "[0.0227713637534941 - 0.00652350524550635*I, 0.0227713637534941 + 0.00652350524550635*I]\n",
      "0.021199999999999934 0.026697885537051935 0.05133809303433014 11.303596903782088\n",
      "[0.0228144239013606 - 0.00645400657804233*I, 0.0228144239013606 + 0.00645400657804233*I]\n",
      "0.02129999999999993 0.026697885537051935 0.05133809303433014 11.303596903782088\n",
      "[0.0228573774384051 - 0.00638363686030117*I, 0.0228573774384051 + 0.00638363686030117*I]\n",
      "0.021399999999999933 0.026697885537051935 0.05133809303433014 11.303596903782088\n",
      "[0.0229002251414846 - 0.00631236783543889*I, 0.0229002251414846 + 0.00631236783543889*I]\n",
      "0.02149999999999993 0.026697885537051935 0.05133809303433014 11.303596903782088\n",
      "[0.0229429677781363 - 0.00624016956404605*I, 0.0229429677781363 + 0.00624016956404605*I]\n",
      "0.021599999999999932 0.026697885537051935 0.05133809303433014 11.303596903782088\n",
      "[0.0229856061067322 - 0.0061670102826849*I, 0.0229856061067322 + 0.0061670102826849*I]\n",
      "0.021699999999999928 0.026697885537051935 0.05133809303433014 11.303596903782088\n",
      "[0.0230281408766317 - 0.00609285624668451*I, 0.0230281408766317 + 0.00609285624668451*I]\n",
      "0.02179999999999993 0.026697885537051935 0.05133809303433014 11.303596903782088\n",
      "[0.0230705728283294 - 0.00601767155499986*I, 0.0230705728283294 + 0.00601767155499986*I]\n",
      "0.021899999999999926 0.026697885537051935 0.05133809303433014 11.303596903782088\n",
      "[0.0231129026936008 - 0.00594141795456809*I, 0.0231129026936008 + 0.00594141795456809*I]\n",
      "0.02199999999999993 0.026697885537051935 0.05133809303433014 11.303596903782088\n",
      "[0.0231551311956451 - 0.00586405462115238*I, 0.0231551311956451 + 0.00586405462115238*I]\n",
      "0.022099999999999925 0.026697885537051935 0.05133809303433014 11.303596903782088\n",
      "[0.0231972590492239 - 0.00578553791312372*I, 0.0231972590492239 + 0.00578553791312372*I]\n",
      "0.022199999999999928 0.026697885537051935 0.05133809303433014 11.303596903782088\n",
      "[0.0232392869607984 - 0.00570582109398198*I, 0.0232392869607984 + 0.00570582109398198*I]\n",
      "0.022299999999999924 0.026697885537051935 0.05133809303433014 11.303596903782088\n",
      "[0.0232812156286628 - 0.00562485401862434*I, 0.0232812156286628 + 0.00562485401862434*I]\n",
      "0.022399999999999927 0.026697885537051935 0.05133809303433014 11.303596903782088\n",
      "[0.0233230457430754 - 0.00554258277739738*I, 0.0233230457430754 + 0.00554258277739738*I]\n",
      "0.022499999999999923 0.026697885537051935 0.05133809303433014 11.303596903782088\n",
      "[0.0233647779863867 - 0.00545894929077617*I, 0.0233647779863867 + 0.00545894929077617*I]\n",
      "0.022599999999999926 0.026697885537051935 0.05133809303433014 11.303596903782088\n",
      "[0.0234064130331655 - 0.00537389084603101*I, 0.0234064130331655 + 0.00537389084603101*I]\n",
      "0.02269999999999992 0.026697885537051935 0.05133809303433014 11.303596903782088\n",
      "[0.0234479515503215 - 0.00528733956539806*I, 0.0234479515503215 + 0.00528733956539806*I]\n",
      "0.022799999999999924 0.026697885537051935 0.05133809303433014 11.303596903782088\n",
      "[0.0234893941972264 - 0.00519922179295409*I, 0.0234893941972264 + 0.00519922179295409*I]\n",
      "0.02289999999999992 0.026697885537051935 0.05133809303433014 11.303596903782088\n",
      "[0.0235307416258318 - 0.00510945738446693*I, 0.0235307416258318 + 0.00510945738446693*I]\n",
      "0.022999999999999923 0.026697885537051935 0.05133809303433014 11.303596903782088\n",
      "[0.0235719944807854 - 0.0050179588807673*I, 0.0235719944807854 + 0.0050179588807673*I]\n",
      "0.02309999999999992 0.026697885537051935 0.05133809303433014 11.303596903782088\n",
      "[0.0236131533995442 - 0.00492463054039824*I, 0.0236131533995442 + 0.00492463054039824*I]\n",
      "0.023199999999999922 0.026697885537051935 0.05133809303433014 11.303596903782088\n",
      "[0.0236542190124861 - 0.00482936720110017*I, 0.0236542190124861 + 0.00482936720110017*I]\n",
      "0.023299999999999918 0.026697885537051935 0.05133809303433014 11.303596903782088\n",
      "[0.0236951919430186 - 0.00473205293158473*I, 0.0236951919430186 + 0.00473205293158473*I]\n",
      "0.02339999999999992 0.026697885537051935 0.05133809303433014 11.303596903782088\n",
      "[0.0237360728076862 - 0.00463255942434741*I, 0.0237360728076862 + 0.00463255942434741*I]\n",
      "0.023499999999999917 0.026697885537051935 0.05133809303433014 11.303596903782088\n",
      "[0.0237768622162751 - 0.0045307440659876*I, 0.0237768622162751 + 0.0045307440659876*I]\n",
      "0.02359999999999992 0.026697885537051935 0.05133809303433014 11.303596903782088\n",
      "[0.0238175607719159 - 0.00442644760221278*I, 0.0238175607719159 + 0.00442644760221278*I]\n",
      "0.023699999999999916 0.026697885537051935 0.05133809303433014 11.303596903782088\n",
      "[0.0238581690711844 - 0.00431949128832427*I, 0.0238581690711844 + 0.00431949128832427*I]\n",
      "0.02379999999999992 0.026697885537051935 0.05133809303433014 11.303596903782088\n",
      "[0.0238986877042007 - 0.00420967337940167*I, 0.0238986877042007 + 0.00420967337940167*I]\n",
      "0.023899999999999914 0.026697885537051935 0.05133809303433014 11.303596903782088\n",
      "[0.023939117254726 - 0.00409676476290765*I, 0.023939117254726 + 0.00409676476290765*I]\n",
      "0.023999999999999917 0.026697885537051935 0.05133809303433014 11.303596903782088\n",
      "[0.0239794583002577 - 0.00398050346273958*I, 0.0239794583002577 + 0.00398050346273958*I]\n",
      "0.024099999999999913 0.026697885537051935 0.05133809303433014 11.303596903782088\n",
      "[0.0240197114121228 - 0.00386058763633011*I, 0.0240197114121228 + 0.00386058763633011*I]\n",
      "0.024199999999999916 0.026697885537051935 0.05133809303433014 11.303596903782088\n",
      "[0.0240598771555693 - 0.00373666652662055*I, 0.0240598771555693 + 0.00373666652662055*I]\n",
      "0.024299999999999912 0.026697885537051935 0.05133809303433014 11.303596903782088\n",
      "[0.0240999560898559 - 0.00360832858763732*I, 0.0240999560898559 + 0.00360832858763732*I]\n",
      "0.024399999999999915 0.026697885537051935 0.05133809303433014 11.303596903782088\n",
      "[0.0241399487683404 - 0.00347508562304206*I, 0.0241399487683404 + 0.00347508562304206*I]\n",
      "0.02449999999999991 0.026697885537051935 0.05133809303433014 11.303596903782088\n",
      "[0.0241798557385659 - 0.00333635116776672*I, 0.0241798557385659 + 0.00333635116776672*I]\n",
      "0.024599999999999914 0.026697885537051935 0.05133809303433014 11.303596903782088\n",
      "[0.0242196775423457 - 0.00319141033171276*I, 0.0242196775423457 + 0.00319141033171276*I]\n",
      "0.02469999999999991 0.026697885537051935 0.05133809303433014 11.303596903782088\n",
      "[0.0242594147158464 - 0.00303937658172765*I, 0.0242594147158464 + 0.00303937658172765*I]\n",
      "0.024799999999999912 0.026697885537051935 0.05133809303433014 11.303596903782088\n",
      "[0.0242990677896698 - 0.00287912779864381*I, 0.0242990677896698 + 0.00287912779864381*I]\n",
      "0.02489999999999991 0.026697885537051935 0.05133809303433014 11.303596903782088\n",
      "[0.0243386372889331 - 0.00270920798722783*I, 0.0243386372889331 + 0.00270920798722783*I]\n",
      "0.02499999999999991 0.026697885537051935 0.05133809303433014 11.303596903782088\n",
      "[0.0243781237333473 - 0.00252766897073333*I, 0.0243781237333473 + 0.00252766897073333*I]\n",
      "0.025099999999999907 0.026697885537051935 0.05133809303433014 11.303596903782088\n",
      "[0.0244175276372949 - 0.00233180008478665*I, 0.0244175276372949 + 0.00233180008478665*I]\n",
      "0.02519999999999991 0.026697885537051935 0.05133809303433014 11.303596903782088\n",
      "[0.0244568495099054 - 0.00211763044547794*I, 0.0244568495099054 + 0.00211763044547794*I]\n",
      "0.025299999999999906 0.026697885537051935 0.05133809303433014 11.303596903782088\n",
      "[0.02449608985513 - 0.00187891423747111*I, 0.02449608985513 + 0.00187891423747111*I]\n",
      "0.02539999999999991 0.026697885537051935 0.05133809303433014 11.303596903782088\n",
      "[0.0245352491718146 - 0.00160473632348281*I, 0.0245352491718146 + 0.00160473632348281*I]\n",
      "0.025499999999999905 0.026697885537051935 0.05133809303433014 11.303596903782088\n",
      "[0.0245743279537718 - 0.00127237789495511*I, 0.0245743279537718 + 0.00127237789495511*I]\n",
      "0.025599999999999908 0.026697885537051935 0.05133809303433014 11.303596903782088\n",
      "[0.0246133266898512 - 0.000813404017009395*I, 0.0246133266898512 + 0.000813404017009395*I]\n",
      "0.025699999999999903 0.026697885537051935 0.05133809303433014 11.303596903782088\n",
      "[0.0241074773109099, 0.0251970144171079]\n",
      "0.025799999999999906 0.026697885537051935 0.05133809303433014 11.303596903782088\n",
      "[0.0235702628729277, 0.0258119090378225]\n",
      "0.025899999999999902 0.026697885537051935 0.05133809303433014 11.303596903782088\n",
      "[0.0232409612551695, 0.0262187336214734]\n",
      "0.025999999999999905 0.026697885537051935 0.05133809303433014 11.303596903782088\n",
      "[0.0229857298287492, 0.0265513317363040]\n",
      "0.0260999999999999 0.026697885537051935 0.05133809303433014 11.303596903782088\n",
      "[0.0227721845166175, 0.0268420883894629]\n",
      "0.026199999999999904 0.026697885537051935 0.05133809303433014 11.303596903782088\n",
      "[0.0225863008320167, 0.0271050289886768]\n",
      "0.0262999999999999 0.026697885537051935 0.05133809303433014 11.303596903782088\n",
      "[0.0224204886324329, 0.0273477445884225]\n",
      "0.026399999999999903 0.026697885537051935 0.05133809303433014 11.303596903782088\n",
      "[0.0222700905679429, 0.0275748934417023]\n",
      "0.0264999999999999 0.026697885537051935 0.05133809303433014 11.303596903782088\n",
      "[0.0221320053206200, 0.0277895777607584]\n",
      "0.0265999999999999 0.026697885537051935 0.05133809303433014 11.303596903782088\n",
      "[0.0220040447259972, 0.0279939865957276]\n",
      "0.026699999999999897 0.026697885537051935 0.05133809303433014 11.303596903782088\n",
      "[0.0218845967227567, 0.0281897328850685]\n",
      "0.0267999999999999 0.026697885537051935 0.05133809303433014 11.303596903782088\n",
      "[0.0217724331406457, 0.0283780456677589]\n",
      "0.026899999999999896 0.026697885537051935 0.05133809303433014 11.303596903782088\n",
      "[0.0216665928250285, 0.0285598869588568]\n",
      "0.0269999999999999 0.026697885537051935 0.05133809303433014 11.303596903782088\n",
      "[0.0215663068757255, 0.0287360265107709]\n",
      "0.027099999999999895 0.026697885537051935 0.05133809303433014 11.303596903782088\n",
      "[0.0214709488172228, 0.0289070916431597]\n",
      "0.027199999999999898 0.026697885537051935 0.05133809303433014 11.303596903782088\n",
      "[0.0213800002348226, 0.0290736016068879]\n",
      "0.027299999999999894 0.026697885537051935 0.05133809303433014 11.303596903782088\n",
      "[0.0212930263859784, 0.0292359919727952]\n",
      "0.027399999999999897 0.026697885537051935 0.05133809303433014 11.303596903782088\n",
      "[0.0212096584610169, 0.0293946323710780]\n",
      "0.027499999999999893 0.026697885537051935 0.05133809303433014 11.303596903782088\n",
      "[0.0211295804034432, 0.0295498396710855]\n",
      "0.027599999999999895 0.026697885537051935 0.05133809303433014 11.303596903782088\n",
      "[0.0210525189345010, 0.0297018879568586]\n",
      "0.02769999999999989 0.026697885537051935 0.05133809303433014 11.303596903782088\n",
      "[0.0209782358784849, 0.0298510162019160]\n",
      "0.027799999999999894 0.026697885537051935 0.05133809303433014 11.303596903782088\n",
      "[0.0209065221717650, 0.0299974342603256]\n",
      "0.02789999999999989 0.026697885537051935 0.05133809303433014 11.303596903782088\n",
      "[0.0208371931249993, 0.0301413276045871]\n",
      "0.027999999999999893 0.026697885537051935 0.05133809303433014 11.303596903782088\n",
      "[0.0207700846323498, 0.0302828611165087]\n",
      "0.02809999999999989 0.026697885537051935 0.05133809303433014 11.303596903782088\n",
      "[0.0207050501061806, 0.0304221821526010]\n",
      "0.028199999999999892 0.026697885537051935 0.05133809303433014 11.303596903782088\n",
      "[0.0206419579744625, 0.0305594230467627]\n",
      "0.028299999999999888 0.026697885537051935 0.05133809303433014 11.303596903782088\n",
      "[0.0205806896195841, 0.0306947031715572]\n",
      "0.02839999999999989 0.026697885537051935 0.05133809303433014 11.303596903782088\n",
      "[0.0205211376670077, 0.0308281306496454]\n",
      "0.028499999999999887 0.026697885537051935 0.05133809303433014 11.303596903782088\n",
      "[0.0204632045538396, 0.0309598037853002]\n",
      "0.02859999999999989 0.026697885537051935 0.05133809303433014 11.303596903782088\n",
      "[0.0204068013233259, 0.0310898122699956]\n",
      "0.028699999999999885 0.026697885537051935 0.05133809303433014 11.303596903782088\n",
      "[0.0203518466031737, 0.0312182382041683]\n",
      "0.028799999999999888 0.026697885537051935 0.05133809303433014 11.303596903782088\n",
      "[0.0202982657345674, 0.0313451569682837]\n",
      "0.028899999999999884 0.026697885537051935 0.05133809303433014 11.303596903782088\n",
      "[0.0202459900255788, 0.0314706379695059]\n",
      "0.028999999999999887 0.026697885537051935 0.05133809303433014 11.303596903782088\n",
      "[0.0201949561079321, 0.0315947452850118]\n",
      "0.029099999999999883 0.026697885537051935 0.05133809303433014 11.303596903782088\n",
      "[0.0201451053801612, 0.0317175382189124]\n",
      "0.029199999999999886 0.026697885537051935 0.05133809303433014 11.303596903782088\n",
      "[0.0200963835233922, 0.0318390717865464]\n",
      "0.02929999999999988 0.026697885537051935 0.05133809303433014 11.303596903782088\n",
      "[0.0200487400785051, 0.0319593971373943]\n",
      "0.029399999999999885 0.026697885537051935 0.05133809303433014 11.303596903782088\n",
      "[0.0200021280754272, 0.0320785619258594]\n",
      "0.02949999999999988 0.026697885537051935 0.05133809303433014 11.303596903782088\n",
      "[0.0199565037069161, 0.0321966106375577]\n",
      "0.029599999999999883 0.026697885537051935 0.05133809303433014 11.303596903782088\n",
      "[0.0199118260404786, 0.0323135848774718]\n",
      "0.02969999999999988 0.026697885537051935 0.05133809303433014 11.303596903782088\n",
      "[0.0198680567631153, 0.0324295236252762]\n",
      "0.029799999999999882 0.026697885537051935 0.05133809303433014 11.303596903782088\n",
      "[0.0198251599544364, 0.0325444634622924]\n",
      "0.029899999999999878 0.026697885537051935 0.05133809303433014 11.303596903782088\n",
      "[0.0197831018843873, 0.0326584387738313]\n",
      "0.02999999999999988 0.026697885537051935 0.05133809303433014 11.303596903782088\n",
      "[0.0197418508324007, 0.0327714819301092]\n",
      "0.030099999999999877 0.026697885537051935 0.05133809303433014 11.303596903782088\n",
      "[0.0197013769252671, 0.0328836234484441]\n",
      "0.03019999999999988 0.026697885537051935 0.05133809303433014 11.303596903782088\n",
      "[0.0196616519914086, 0.0329948921390472]\n",
      "0.030299999999999876 0.026697885537051935 0.05133809303433014 11.303596903782088\n",
      "[0.0196226494295752, 0.0331053152363917]\n",
      "0.03039999999999988 0.026697885537051935 0.05133809303433014 11.303596903782088\n",
      "[0.0195843440902566, 0.0332149185178645]\n",
      "0.030499999999999874 0.026697885537051935 0.05133809303433014 11.303596903782088\n",
      "[0.0195467121683369, 0.0333237264111741]\n",
      "0.030599999999999877 0.026697885537051935 0.05133809303433014 11.303596903782088\n",
      "[0.0195097311057189, 0.0334317620917888]\n",
      "0.030699999999999873 0.026697885537051935 0.05133809303433014 11.303596903782088\n",
      "[0.0194733795028079, 0.0335390475715127]\n",
      "0.030799999999999876 0.026697885537051935 0.05133809303433014 11.303596903782088\n",
      "[0.0194376370378913, 0.0336456037791670]\n",
      "0.030899999999999872 0.026697885537051935 0.05133809303433014 11.303596903782088\n",
      "[0.0194024843935708, 0.0337514506342165]\n",
      "0.030999999999999875 0.026697885537051935 0.05133809303433014 11.303596903782088\n",
      "[0.0193679031895072, 0.0338566071140834]\n",
      "0.03109999999999987 0.026697885537051935 0.05133809303433014 11.303596903782088\n",
      "[0.0193338759208294, 0.0339610913157947]\n",
      "0.031199999999999874 0.026697885537051935 0.05133809303433014 11.303596903782088\n",
      "[0.0193003859016359, 0.0340649205125383]\n",
      "0.03129999999999987 0.026697885537051935 0.05133809303433014 11.303596903782088\n",
      "[0.0192674172130835, 0.0341681112056296]\n",
      "0.03139999999999987 0.026697885537051935 0.05133809303433014 11.303596903782088\n",
      "[0.0192349546556164, 0.0342706791723369]\n",
      "0.03149999999999987 0.026697885537051935 0.05133809303433014 11.303596903782088\n",
      "[0.0192029837049407, 0.0343726395099617]\n",
      "0.03159999999999987 0.026697885537051935 0.05133809303433014 11.303596903782088\n",
      "[0.0191714904713899, 0.0344740066765257]\n",
      "0.03169999999999987 0.026697885537051935 0.05133809303433014 11.303596903782088\n",
      "[0.0191404616623701, 0.0345747945283785]\n",
      "0.03179999999999987 0.026697885537051935 0.05133809303433014 11.303596903782088\n",
      "[0.0191098845476031, 0.0346750163550065]\n",
      "0.031899999999999866 0.026697885537051935 0.05133809303433014 11.303596903782088\n",
      "[0.0190797469269177, 0.0347746849112922]\n",
      "0.03199999999999987 0.026697885537051935 0.05133809303433014 11.303596903782088\n",
      "[0.0190500371003648, 0.0348738124474497]\n",
      "0.032099999999999865 0.026697885537051935 0.05133809303433014 11.303596903782088\n",
      "[0.0190207438404548, 0.0349724107368364]\n",
      "0.03219999999999987 0.026697885537051935 0.05133809303433014 11.303596903782088\n",
      "[0.0189918563663361, 0.0350704911018239]\n",
      "0.032299999999999864 0.026697885537051935 0.05133809303433014 11.303596903782088\n",
      "[0.0189633643197520, 0.0351680644378889]\n",
      "0.032399999999999866 0.026697885537051935 0.05133809303433014 11.303596903782088\n",
      "[0.0189352577426282, 0.0352651412360734]\n",
      "0.03249999999999986 0.026697885537051935 0.05133809303433014 11.303596903782088\n",
      "[0.0189075270561583, 0.0353617316039458]\n",
      "0.032599999999999865 0.026697885537051935 0.05133809303433014 11.303596903782088\n",
      "[0.0188801630412668, 0.0354578452851844]\n",
      "0.03269999999999986 0.026697885537051935 0.05133809303433014 11.303596903782088\n",
      "[0.0188531568203407, 0.0355534916778906]\n",
      "0.032799999999999864 0.026697885537051935 0.05133809303433014 11.303596903782088\n",
      "[0.0188264998401304, 0.0356486798517338]\n",
      "0.03289999999999986 0.026697885537051935 0.05133809303433014 11.303596903782088\n",
      "[0.0188001838557294, 0.0357434185640151]\n",
      "0.03299999999999986 0.026697885537051935 0.05133809303433014 11.303596903782088\n",
      "[0.0187742009155524, 0.0358377162747335]\n",
      "0.03309999999999986 0.026697885537051935 0.05133809303433014 11.303596903782088\n",
      "[0.0187485433472350, 0.0359315811607289]\n",
      "0.03319999999999986 0.026697885537051935 0.05133809303433014 11.303596903782088\n",
      "[0.0187232037443884, 0.0360250211289696]\n",
      "0.03329999999999986 0.026697885537051935 0.05133809303433014 11.303596903782088\n",
      "[0.0186981749541458, 0.0361180438290482]\n",
      "0.03339999999999986 0.026697885537051935 0.05133809303433014 11.303596903782088\n",
      "[0.0186734500654447, 0.0362106566649402]\n",
      "alpha:  0.03329999999999986\n",
      "peak:  3.5990876388694244\n",
      "width:  2.0694114756729873\n",
      "1.9896796313369964\n"
     ]
    }
   ],
   "source": [
    "get_parameters(51, 1.62, 0.823786215236112, 0.705889947960325, 2)"
   ]
  },
  {
   "cell_type": "code",
   "execution_count": null,
   "metadata": {},
   "outputs": [],
   "source": [
    "get_parameters(51, 1.62, 0.823786215236112, 0.705889947960325, 2)"
   ]
  },
  {
   "cell_type": "code",
   "execution_count": 5,
   "metadata": {},
   "outputs": [
    {
     "name": "stdout",
     "output_type": "stream",
     "text": [
      "alpha:  0.03149999999999987\n",
      "peak:  3.499083337841862\n",
      "width:  1.969407174645425\n",
      "1.4545005021697046\n"
     ]
    }
   ],
   "source": [
    "## pilot3\n",
    "get_parameters(51, 1.62, 0.823786215236112, 0.705889947960325, 1.475)"
   ]
  },
  {
   "cell_type": "markdown",
   "metadata": {},
   "source": [
    "# P5"
   ]
  },
  {
   "cell_type": "code",
   "execution_count": 5,
   "metadata": {},
   "outputs": [
    {
     "name": "stdout",
     "output_type": "stream",
     "text": [
      "alpha:  0.0267999999999999\n",
      "peak:  2.7916185692294273\n",
      "width:  1.3128508692294276\n",
      "1.6174125807810136\n"
     ]
    }
   ],
   "source": [
    "get_parameters(80, 1.68, 1.0292359, 0.4495318, 1.620) # sd_everything + personal maxV"
   ]
  },
  {
   "cell_type": "markdown",
   "metadata": {},
   "source": [
    "## P4"
   ]
  },
  {
   "cell_type": "code",
   "execution_count": 44,
   "metadata": {},
   "outputs": [
    {
     "name": "stdout",
     "output_type": "stream",
     "text": [
      "alpha:  0.01809999999999995\n",
      "peak:  1.6357906014216916\n",
      "width:  0.9657906014216916\n",
      "2.0071240029304507\n"
     ]
    }
   ],
   "source": [
    "get_parameters(69, 1.72, 0.404, 0.266, 2.011) #avg_sd + global maxV\n",
    "# find it? no\n",
    "# abrupt? no , can feel the start of the stability\n",
    "# able to hold? yes"
   ]
  },
  {
   "cell_type": "code",
   "execution_count": 45,
   "metadata": {},
   "outputs": [
    {
     "name": "stdout",
     "output_type": "stream",
     "text": [
      "alpha:  0.026899999999999896\n",
      "peak:  2.840223034490924\n",
      "width:  1.8522230344909238\n",
      "2.0012591127169026\n"
     ]
    }
   ],
   "source": [
    "get_parameters(69, 1.72, 0.404, 0.584, 2.011) # sd_everything + global maxV\n",
    "# find it? no\n",
    "# abrupt? no, they like it can't tell until they are there (a bit abrupt going through it)\n",
    "# able to hold? yes"
   ]
  },
  {
   "cell_type": "code",
   "execution_count": 46,
   "metadata": {},
   "outputs": [
    {
     "name": "stdout",
     "output_type": "stream",
     "text": [
      "alpha:  0.015899999999999963\n",
      "peak:  1.551539410551427\n",
      "width:  0.881539410551427\n",
      "1.428141228638181\n"
     ]
    }
   ],
   "source": [
    "get_parameters(69, 1.72, 0.404, 0.266, 1.440) # avg_sd + personal maxV\n",
    "# find it? yes\n",
    "# abrupt? very smooth, going past it feels normal, the smoothest so far \n",
    "# able to hold? yes-ish, if fulling relaxed, will fall through it, still helping and easier to stand"
   ]
  },
  {
   "cell_type": "code",
   "execution_count": 47,
   "metadata": {},
   "outputs": [
    {
     "name": "stdout",
     "output_type": "stream",
     "text": [
      "alpha:  0.02489999999999991\n",
      "peak:  2.729191334794012\n",
      "width:  1.741191334794012\n",
      "1.4237698079899825\n"
     ]
    }
   ],
   "source": [
    "get_parameters(69, 1.72, 0.404, 0.584, 1.440) # sd_everything + personal maxV\n",
    "# find it? no, stability is very far forward\n",
    "# abrupt? smooth, hard to tell where it starts, can feel being attracted to it\n",
    "# able to hold? quite good, holds pretty well"
   ]
  },
  {
   "cell_type": "markdown",
   "metadata": {},
   "source": [
    "## P2"
   ]
  },
  {
   "cell_type": "code",
   "execution_count": 48,
   "metadata": {},
   "outputs": [
    {
     "name": "stdout",
     "output_type": "stream",
     "text": [
      "alpha:  0.017999999999999954\n",
      "peak:  1.7882588672581103\n",
      "width:  1.3152588672581105\n",
      "2.0064247672522217\n"
     ]
    }
   ],
   "source": [
    "get_parameters(51, 1.63, 0.110, 0.363, 2.011) #avg_sd + global maxV\n",
    "# find it? Yes\n",
    "# abrupt? No\n",
    "# able to hold? almost no\n",
    "# ossilation? Yes "
   ]
  },
  {
   "cell_type": "code",
   "execution_count": 49,
   "metadata": {},
   "outputs": [
    {
     "name": "stdout",
     "output_type": "stream",
     "text": [
      "alpha:  0.01969999999999994\n",
      "peak:  2.0141688961269164\n",
      "width:  1.481168896126916\n",
      "1.9915344258543102\n"
     ]
    }
   ],
   "source": [
    "get_parameters(51, 1.63, 0.110, 0.423, 2.011) # sd_everything + global maxV\n",
    "# find it?  Yes\n",
    "# abrupt? no \n",
    "# able to hold? Yes， stronger\n",
    "# ossilation? small oscillation， better than before， feels close 0"
   ]
  },
  {
   "cell_type": "code",
   "execution_count": 50,
   "metadata": {},
   "outputs": [
    {
     "name": "stdout",
     "output_type": "stream",
     "text": [
      "alpha:  0.018899999999999945\n",
      "peak:  1.8320527720724302\n",
      "width:  1.3590527720724301\n",
      "2.2679513339529285\n"
     ]
    }
   ],
   "source": [
    "get_parameters(51, 1.63, 0.110, 0.363, 2.295) # avg_sd + personal maxV\n",
    "# find it? Yes\n",
    "# abrupt? no\n",
    "# able to hold? ye s \n",
    "# ossilation? Bigger compared previous， better than first"
   ]
  },
  {
   "cell_type": "code",
   "execution_count": 51,
   "metadata": {},
   "outputs": [
    {
     "name": "stdout",
     "output_type": "stream",
     "text": [
      "alpha:  0.020699999999999934\n",
      "peak:  2.0655437459883075\n",
      "width:  1.5325437459883073\n",
      "2.2864209924947443\n"
     ]
    }
   ],
   "source": [
    "get_parameters(51, 1.63, 0.110, 0.423, 2.295) # sd_everything + personal maxV\n",
    "# find it? yes\n",
    "# abrupt? no \n",
    "# able to hold? stronger hold than  test 2， very strong\n",
    "# ossilation? same oscillations test 2"
   ]
  },
  {
   "cell_type": "markdown",
   "metadata": {},
   "source": [
    "## P3"
   ]
  },
  {
   "cell_type": "code",
   "execution_count": 54,
   "metadata": {},
   "outputs": [
    {
     "name": "stdout",
     "output_type": "stream",
     "text": [
      "alpha:  0.02129999999999993\n",
      "peak:  1.9507537056665025\n",
      "width:  0.8707537056665025\n",
      "1.981898117467969\n"
     ]
    }
   ],
   "source": [
    "get_parameters(77, 1.65, 0.818, 0.262, 2.011) #avg_sd + global maxV #location, width, strength\n",
    "# find it? yes\n",
    "# abrupt? yes, very smooth\n",
    "# able to hold? slowly - yes, fast - speed bump\n",
    "# ossilation? yes"
   ]
  },
  {
   "cell_type": "code",
   "execution_count": 55,
   "metadata": {},
   "outputs": [
    {
     "name": "stdout",
     "output_type": "stream",
     "text": [
      "alpha:  0.023899999999999914\n",
      "peak:  2.347371471606372\n",
      "width:  1.1623714716063718\n",
      "1.9804651804147335\n"
     ]
    }
   ],
   "source": [
    "get_parameters(77, 1.65, 0.818, 0.367, 2.011) # sd_everything + global maxV\n",
    "# find it? yes\n",
    "# abrupt? no going into it\n",
    "# able to hold? yes, but when balancing, don't trust it\n",
    "# ossilation? yes, unphysiological, has a very characteristic frequency, unlike the stochastic motion\n",
    "\n",
    "## this one feels the same as the previous one, put in damping"
   ]
  },
  {
   "cell_type": "code",
   "execution_count": 56,
   "metadata": {},
   "outputs": [
    {
     "name": "stdout",
     "output_type": "stream",
     "text": [
      "alpha:  0.02359999999999992\n",
      "peak:  2.016336801177448\n",
      "width:  0.9363368011774478\n",
      "2.5926854974479974\n"
     ]
    }
   ],
   "source": [
    "get_parameters(77, 1.65, 0.818, 0.262, 2.605) # avg_sd + personal maxV\n",
    "# find it? feels further forward\n",
    "# abrupt? fine\n",
    "# able to hold? feels stronger\n",
    "# ossilation? has a higher frequecy vibration"
   ]
  },
  {
   "cell_type": "code",
   "execution_count": 57,
   "metadata": {},
   "outputs": [
    {
     "name": "stdout",
     "output_type": "stream",
     "text": [
      "alpha:  0.026199999999999904\n",
      "peak:  2.429513382463942\n",
      "width:  1.2445133824639416\n",
      "2.5973909393024246\n"
     ]
    }
   ],
   "source": [
    "get_parameters(77, 1.65, 0.818, 0.367, 2.605) # sd_everything + personal maxV\n",
    "# find it? yes, feels closer than trial 3\n",
    "# abrupt? no\n",
    "# able to hold? yes\n",
    "# ossilation? does not have high ossilation like trial 3"
   ]
  },
  {
   "cell_type": "markdown",
   "metadata": {},
   "source": [
    "# P1"
   ]
  },
  {
   "cell_type": "code",
   "execution_count": 5,
   "metadata": {},
   "outputs": [
    {
     "name": "stdout",
     "output_type": "stream",
     "text": [
      "alpha:  0.02359999999999992\n",
      "peak:  2.345355512931836\n",
      "width:  1.3263555129318363\n",
      "1.984744254833987\n"
     ]
    }
   ],
   "source": [
    "get_parameters(90, 1.73, 0.610, 0.409, 2.011) #avg_sd + global maxV #location, width, strength\n",
    "# find it? no\n",
    "# abrupt? no\n",
    "# able to hold? yes\n",
    "# ossilation? yes"
   ]
  },
  {
   "cell_type": "code",
   "execution_count": 6,
   "metadata": {},
   "outputs": [
    {
     "name": "stdout",
     "output_type": "stream",
     "text": [
      "alpha:  0.027999999999999893\n",
      "peak:  2.9299822127863377\n",
      "width:  1.754982212786338\n",
      "1.9997153866363997\n"
     ]
    }
   ],
   "source": [
    "get_parameters(90, 1.73, 0.610, 0.565, 2.011) # sd_everything + global maxV\n",
    "# find it? yes\n",
    "# abrupt? no, but the pulling from the stability point really distrcted the normal standing balance (too close to setpoint) pulling is stronger than test1\n",
    "# able to hold? yes, still having some forces in the muscle, good to have longer trials\n",
    "# ossilation? yes\n"
   ]
  },
  {
   "cell_type": "code",
   "execution_count": 7,
   "metadata": {},
   "outputs": [
    {
     "name": "stdout",
     "output_type": "stream",
     "text": [
      "alpha:  0.023999999999999917\n",
      "peak:  2.3620933509601443\n",
      "width:  1.343093350960144\n",
      "2.092789161624924\n"
     ]
    }
   ],
   "source": [
    "get_parameters(90, 1.73, 0.610, 0.409, 2.095) #avg_sd + global maxV #location, width, strength\n",
    "# find it? yes\n",
    "# abrupt? more pointy, no pull, more curiosity to find it\n",
    "# able to hold? yes, if turn off all the muscles will fall, feel easier to stand\n",
    "# ossilation? yes \n",
    "\n",
    "## Amin's favorate. he has to actively explore to find it"
   ]
  },
  {
   "cell_type": "code",
   "execution_count": 8,
   "metadata": {},
   "outputs": [
    {
     "name": "stdout",
     "output_type": "stream",
     "text": [
      "alpha:  0.028299999999999888\n",
      "peak:  2.9447355375140516\n",
      "width:  1.7697355375140518\n",
      "2.079943541120101\n"
     ]
    }
   ],
   "source": [
    "get_parameters(90, 1.73, 0.610, 0.565, 2.095) # sd_everything + global maxV\n",
    "# find it? yes\n",
    "# abrupt? yes, also feels the pull when stability starts\n",
    "# able to hold? yes, stronger than previous ones, when turn off all the muscles, will fall\n",
    "# ossilation? yes"
   ]
  }
 ],
 "metadata": {
  "kernelspec": {
   "display_name": ".venv",
   "language": "python",
   "name": "python3"
  },
  "language_info": {
   "codemirror_mode": {
    "name": "ipython",
    "version": 3
   },
   "file_extension": ".py",
   "mimetype": "text/x-python",
   "name": "python",
   "nbconvert_exporter": "python",
   "pygments_lexer": "ipython3",
   "version": "3.12.4"
  }
 },
 "nbformat": 4,
 "nbformat_minor": 2
}
