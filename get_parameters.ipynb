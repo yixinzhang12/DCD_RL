{
 "cells": [
  {
   "cell_type": "code",
   "execution_count": 16,
   "metadata": {},
   "outputs": [],
   "source": [
    "import numpy as np\n",
    "import matplotlib.pyplot as plt\n",
    "from scipy.integrate import odeint\n",
    "import sympy as sp"
   ]
  },
  {
   "cell_type": "code",
   "execution_count": 17,
   "metadata": {},
   "outputs": [],
   "source": [
    "# Define the function of the dynamics\n",
    "def cosine_dynamics(X, t, constant, alpha, sigma, B):\n",
    "    x,y = X # x = angle = theta, y = dxdt = angular velocity = omega, dydt = angular acceleration\n",
    "\n",
    "    conditions = [(x > (B - sigma)) & (x < (B + sigma)),\n",
    "              (x <= (B - sigma)) | (x >= (B + sigma))]\n",
    "\n",
    "    functions = [lambda x: 1 + np.cos(2 * np.pi * (x - B) / (2 * sigma)), lambda x: 0]\n",
    "\n",
    "    dxdt = y\n",
    "    dydt = constant * (x - np.sign(B) * alpha * np.piecewise(x, conditions, functions)) # minuses the cosine\n",
    "    return [dxdt, dydt]"
   ]
  },
  {
   "cell_type": "code",
   "execution_count": 34,
   "metadata": {},
   "outputs": [],
   "source": [
    "#function to get max velocity for a specific alpha\n",
    "def get_max_velocity(alpha, cos_start, cos_acc0, constant):\n",
    "    # get sigma and B\n",
    "    sigma = sp.Symbol('sigma')\n",
    "    # X = cos_acc0\n",
    "    B = sigma + cos_start\n",
    "    equation = constant * (cos_acc0 - alpha * (1 + sp.cos((2 * sp.pi * (cos_acc0 - B)) / (2 * sigma)))) \n",
    "    solutions = sp.solve(equation, sigma)\n",
    "    try: \n",
    "        sigma = float(solutions[1]) ## stability width\n",
    "    except TypeError:\n",
    "        return None,None,None\n",
    "    B = sigma + cos_start\n",
    "    # print(B, sigma)\n",
    "    max_velocity = None\n",
    "    for i in np.arange(cos_start, cos_acc0, 0.0001):\n",
    "        # print(i)\n",
    "        X = [i,0]\n",
    "        t = np.linspace(0, 5, 100000)\n",
    "        sol = odeint(cosine_dynamics, X, t, args=(constant, alpha, sigma, B)) #integrates dxdt and dydt to get theta (angle) and omega (velocity)\n",
    "        theta = np.rad2deg(sol[:,0])\n",
    "        omega = np.rad2deg(sol[:,1])\n",
    "        # print(theta)\n",
    "        # print(np.rad2deg(cos_acc0))\n",
    "        if (any(x < 0 for x in omega)):\n",
    "            max_velocity = max(omega)\n",
    "            break\n",
    "    if isinstance(max_velocity, (int, float)):\n",
    "        return max_velocity, B, sigma\n",
    "    else: return None,None,None"
   ]
  },
  {
   "cell_type": "code",
   "execution_count": 43,
   "metadata": {},
   "outputs": [],
   "source": [
    "def get_parameters(mass, height, setpoint_baseline, sd_baseline, maxV):\n",
    "    #Constants\n",
    "    scaling = 0.971\n",
    "    L = 1.09\n",
    "    g = 9.81\n",
    "    m = mass #change\n",
    "    H = height #change\n",
    "    I = 0.35*m*H**2     # Distributed Inertia\n",
    "    b = 0\n",
    "    maxAngle = 65\n",
    "    constant = scaling * m * g * L / I\n",
    "\n",
    "    ## baselines\n",
    "    setpoint_baseline = setpoint_baseline #change\n",
    "    sd_baseline = sd_baseline #change\n",
    "    cos_start = np.deg2rad(setpoint_baseline + 1 * sd_baseline) \n",
    "    cos_acc0 = np.deg2rad(setpoint_baseline + 3 * sd_baseline) \n",
    "    # print(cos_start, cos_acc0, constant)\n",
    "\n",
    "    alpha_out = 0\n",
    "    velocity_out = 0\n",
    "    for alpha in np.arange(0.01, 0.04, 0.0001):\n",
    "        max_velocity, B, sigma = get_max_velocity(alpha, cos_start, cos_acc0, constant)\n",
    "        if isinstance(max_velocity, (int, float)):\n",
    "            if max_velocity < maxV:\n",
    "                alpha_out = alpha\n",
    "                B_out = B\n",
    "                sigma_out = sigma\n",
    "                velocity_out = max_velocity\n",
    "            else:\n",
    "                print(\"alpha: \", alpha_out)\n",
    "                print(\"peak: \", np.rad2deg(B_out))\n",
    "                print(\"width: \", np.rad2deg(sigma_out))\n",
    "                print(velocity_out)\n",
    "                break\n",
    "        else:\n",
    "            continue\n",
    "\n"
   ]
  },
  {
   "cell_type": "markdown",
   "metadata": {},
   "source": [
    "## P4"
   ]
  },
  {
   "cell_type": "code",
   "execution_count": 44,
   "metadata": {},
   "outputs": [
    {
     "name": "stdout",
     "output_type": "stream",
     "text": [
      "alpha:  0.01809999999999995\n",
      "peak:  1.6357906014216916\n",
      "width:  0.9657906014216916\n",
      "2.0071240029304507\n"
     ]
    }
   ],
   "source": [
    "get_parameters(69, 1.72, 0.404, 0.266, 2.011) #avg_sd + global maxV\n",
    "# abrupt, like a wall, going into it, feels like a wall"
   ]
  },
  {
   "cell_type": "code",
   "execution_count": 45,
   "metadata": {},
   "outputs": [
    {
     "name": "stdout",
     "output_type": "stream",
     "text": [
      "alpha:  0.026899999999999896\n",
      "peak:  2.840223034490924\n",
      "width:  1.8522230344909238\n",
      "2.0012591127169026\n"
     ]
    }
   ],
   "source": [
    "get_parameters(69, 1.72, 0.404, 0.584, 2.011) # sd_everything + global maxV"
   ]
  },
  {
   "cell_type": "code",
   "execution_count": 46,
   "metadata": {},
   "outputs": [
    {
     "name": "stdout",
     "output_type": "stream",
     "text": [
      "alpha:  0.015899999999999963\n",
      "peak:  1.551539410551427\n",
      "width:  0.881539410551427\n",
      "1.428141228638181\n"
     ]
    }
   ],
   "source": [
    "get_parameters(69, 1.72, 0.404, 0.266, 1.440) # avg_sd + personal maxV\n",
    "## speed bump"
   ]
  },
  {
   "cell_type": "code",
   "execution_count": 47,
   "metadata": {},
   "outputs": [
    {
     "name": "stdout",
     "output_type": "stream",
     "text": [
      "alpha:  0.02489999999999991\n",
      "peak:  2.729191334794012\n",
      "width:  1.741191334794012\n",
      "1.4237698079899825\n"
     ]
    }
   ],
   "source": [
    "get_parameters(69, 1.72, 0.404, 0.584, 1.440) # sd_everything + personal maxV"
   ]
  },
  {
   "cell_type": "markdown",
   "metadata": {},
   "source": [
    "## P2"
   ]
  },
  {
   "cell_type": "code",
   "execution_count": 48,
   "metadata": {},
   "outputs": [
    {
     "name": "stdout",
     "output_type": "stream",
     "text": [
      "alpha:  0.017999999999999954\n",
      "peak:  1.7882588672581103\n",
      "width:  1.3152588672581105\n",
      "2.0064247672522217\n"
     ]
    }
   ],
   "source": [
    "get_parameters(51, 1.63, 0.110, 0.363, 2.011) #avg_sd + global maxV"
   ]
  },
  {
   "cell_type": "code",
   "execution_count": 49,
   "metadata": {},
   "outputs": [
    {
     "name": "stdout",
     "output_type": "stream",
     "text": [
      "alpha:  0.01969999999999994\n",
      "peak:  2.0141688961269164\n",
      "width:  1.481168896126916\n",
      "1.9915344258543102\n"
     ]
    }
   ],
   "source": [
    "get_parameters(51, 1.63, 0.110, 0.423, 2.011) # sd_everything + global maxV"
   ]
  },
  {
   "cell_type": "code",
   "execution_count": 50,
   "metadata": {},
   "outputs": [
    {
     "name": "stdout",
     "output_type": "stream",
     "text": [
      "alpha:  0.018899999999999945\n",
      "peak:  1.8320527720724302\n",
      "width:  1.3590527720724301\n",
      "2.2679513339529285\n"
     ]
    }
   ],
   "source": [
    "get_parameters(51, 1.63, 0.110, 0.363, 2.295) # avg_sd + personal maxV"
   ]
  },
  {
   "cell_type": "code",
   "execution_count": 51,
   "metadata": {},
   "outputs": [
    {
     "name": "stdout",
     "output_type": "stream",
     "text": [
      "alpha:  0.020699999999999934\n",
      "peak:  2.0655437459883075\n",
      "width:  1.5325437459883073\n",
      "2.2864209924947443\n"
     ]
    }
   ],
   "source": [
    "get_parameters(51, 1.63, 0.110, 0.423, 2.295) # sd_everything + personal maxV"
   ]
  },
  {
   "cell_type": "markdown",
   "metadata": {},
   "source": [
    "## P3"
   ]
  },
  {
   "cell_type": "code",
   "execution_count": 54,
   "metadata": {},
   "outputs": [
    {
     "name": "stdout",
     "output_type": "stream",
     "text": [
      "alpha:  0.02129999999999993\n",
      "peak:  1.9507537056665025\n",
      "width:  0.8707537056665025\n",
      "1.981898117467969\n"
     ]
    }
   ],
   "source": [
    "get_parameters(77, 1.65, 0.818, 0.262, 2.011) #avg_sd + global maxV"
   ]
  },
  {
   "cell_type": "code",
   "execution_count": 55,
   "metadata": {},
   "outputs": [
    {
     "name": "stdout",
     "output_type": "stream",
     "text": [
      "alpha:  0.023899999999999914\n",
      "peak:  2.347371471606372\n",
      "width:  1.1623714716063718\n",
      "1.9804651804147335\n"
     ]
    }
   ],
   "source": [
    "get_parameters(77, 1.65, 0.818, 0.367, 2.011) # sd_everything + global maxV"
   ]
  },
  {
   "cell_type": "code",
   "execution_count": 56,
   "metadata": {},
   "outputs": [
    {
     "name": "stdout",
     "output_type": "stream",
     "text": [
      "alpha:  0.02359999999999992\n",
      "peak:  2.016336801177448\n",
      "width:  0.9363368011774478\n",
      "2.5926854974479974\n"
     ]
    }
   ],
   "source": [
    "get_parameters(77, 1.65, 0.818, 0.262, 2.605) # avg_sd + personal maxV"
   ]
  },
  {
   "cell_type": "code",
   "execution_count": 57,
   "metadata": {},
   "outputs": [
    {
     "name": "stdout",
     "output_type": "stream",
     "text": [
      "alpha:  0.026199999999999904\n",
      "peak:  2.429513382463942\n",
      "width:  1.2445133824639416\n",
      "2.5973909393024246\n"
     ]
    }
   ],
   "source": [
    "get_parameters(77, 1.65, 0.818, 0.367, 2.605) # sd_everything + personal maxV"
   ]
  }
 ],
 "metadata": {
  "kernelspec": {
   "display_name": "Python 3",
   "language": "python",
   "name": "python3"
  },
  "language_info": {
   "codemirror_mode": {
    "name": "ipython",
    "version": 3
   },
   "file_extension": ".py",
   "mimetype": "text/x-python",
   "name": "python",
   "nbconvert_exporter": "python",
   "pygments_lexer": "ipython3",
   "version": "3.12.4"
  }
 },
 "nbformat": 4,
 "nbformat_minor": 2
}
