{
 "cells": [
  {
   "cell_type": "code",
   "execution_count": 42,
   "metadata": {},
   "outputs": [
    {
     "name": "stderr",
     "output_type": "stream",
     "text": [
      "\u001b[32m\u001b[1m   Resolving\u001b[22m\u001b[39m package versions...\n",
      "\u001b[32m\u001b[1m  No Changes\u001b[22m\u001b[39m to `~/.julia/environments/v1.10/Project.toml`\n",
      "\u001b[32m\u001b[1m  No Changes\u001b[22m\u001b[39m to `~/.julia/environments/v1.10/Manifest.toml`\n",
      "\u001b[32m\u001b[1m   Resolving\u001b[22m\u001b[39m package versions...\n",
      "\u001b[32m\u001b[1m  No Changes\u001b[22m\u001b[39m to `~/.julia/environments/v1.10/Project.toml`\n",
      "\u001b[32m\u001b[1m  No Changes\u001b[22m\u001b[39m to `~/.julia/environments/v1.10/Manifest.toml`\n"
     ]
    },
    {
     "data": {
      "text/plain": [
       "read_data_with_metadata (generic function with 1 method)"
      ]
     },
     "execution_count": 42,
     "metadata": {},
     "output_type": "execute_result"
    }
   ],
   "source": [
    "using Pkg\n",
    "Pkg.add(\"CSV\")\n",
    "Pkg.add(\"DataFrames\")\n",
    "\n",
    "using CSV, DataFrames\n",
    "\n",
    "# Function to read and process the file\n",
    "function read_data_with_metadata(file_path)\n",
    "    # Open the file\n",
    "    file = open(file_path, \"r\")\n",
    "    try\n",
    "        # Read all lines until the data starts\n",
    "        lines = readlines(file)\n",
    "        \n",
    "        # Extract column names from line 17\n",
    "        column_names = split(join(lines[17:22], \" \"), r\"\\d+\\)\")  # column names from lines 17-22, separated by some number + \") \"\n",
    "        column_names = [replace(name, \" \" => \"\") for name in column_names] # remove spaces\n",
    "        column_names = column_names[2:end] #remove first cell (empty cell)\n",
    "        # Read CSV data starting from line 24\n",
    "        data = CSV.File(file_path; header=column_names, skipto=24) |> DataFrame\n",
    "\n",
    "        return data\n",
    "    finally\n",
    "        close(file)\n",
    "    end\n",
    "end\n"
   ]
  },
  {
   "cell_type": "code",
   "execution_count": 45,
   "metadata": {},
   "outputs": [
    {
     "name": "stdout",
     "output_type": "stream",
     "text": [
      "Data saved to 'StabilityStudy/trial4_cleaned.csv'\n"
     ]
    }
   ],
   "source": [
    "using CSV, DataFrames\n",
    "\n",
    "# Path to your data file\n",
    "file_path = \"StabilityStudy/Trial4.txt\"\n",
    "\n",
    "# Call the function to read the data\n",
    "data_df = read_data_with_metadata(file_path)\n",
    "\n",
    "# Specify the path where you want to save the file\n",
    "file_path = \"StabilityStudy/trial4_cleaned.csv\"\n",
    "\n",
    "# Writing the DataFrame to a CSV file\n",
    "CSV.write(file_path, data_df)\n",
    "\n",
    "println(\"Data saved to '$file_path'\")\n"
   ]
  }
 ],
 "metadata": {
  "kernelspec": {
   "display_name": "Julia 1.10.4",
   "language": "julia",
   "name": "julia-1.10"
  },
  "language_info": {
   "file_extension": ".jl",
   "mimetype": "application/julia",
   "name": "julia",
   "version": "1.10.4"
  }
 },
 "nbformat": 4,
 "nbformat_minor": 2
}
